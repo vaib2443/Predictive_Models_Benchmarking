{
 "cells": [
  {
   "cell_type": "code",
   "execution_count": 107,
   "id": "706bf86a",
   "metadata": {},
   "outputs": [],
   "source": [
    "import numpy as np\n",
    "import pandas as pd\n",
    "import matplotlib.pyplot as plt\n",
    "import seaborn as sns\n",
    "import statsmodels.api as sm"
   ]
  },
  {
   "cell_type": "code",
   "execution_count": 108,
   "id": "ef829999",
   "metadata": {
    "scrolled": true
   },
   "outputs": [
    {
     "data": {
      "text/html": [
       "<div>\n",
       "<style scoped>\n",
       "    .dataframe tbody tr th:only-of-type {\n",
       "        vertical-align: middle;\n",
       "    }\n",
       "\n",
       "    .dataframe tbody tr th {\n",
       "        vertical-align: top;\n",
       "    }\n",
       "\n",
       "    .dataframe thead th {\n",
       "        text-align: right;\n",
       "    }\n",
       "</style>\n",
       "<table border=\"1\" class=\"dataframe\">\n",
       "  <thead>\n",
       "    <tr style=\"text-align: right;\">\n",
       "      <th></th>\n",
       "      <th>Unnamed: 0</th>\n",
       "      <th>Parcel ID</th>\n",
       "      <th>Land Use</th>\n",
       "      <th>Property Address</th>\n",
       "      <th>Suite/ Condo   #</th>\n",
       "      <th>Property City</th>\n",
       "      <th>Sale Date</th>\n",
       "      <th>Legal Reference</th>\n",
       "      <th>Sold As Vacant</th>\n",
       "      <th>Multiple Parcels Involved in Sale</th>\n",
       "      <th>...</th>\n",
       "      <th>Building Value</th>\n",
       "      <th>Finished Area</th>\n",
       "      <th>Foundation Type</th>\n",
       "      <th>Year Built</th>\n",
       "      <th>Exterior Wall</th>\n",
       "      <th>Grade</th>\n",
       "      <th>Bedrooms</th>\n",
       "      <th>Full Bath</th>\n",
       "      <th>Half Bath</th>\n",
       "      <th>Sale Price Compared To Value</th>\n",
       "    </tr>\n",
       "  </thead>\n",
       "  <tbody>\n",
       "    <tr>\n",
       "      <th>0</th>\n",
       "      <td>1</td>\n",
       "      <td>105 11 0 080.00</td>\n",
       "      <td>SINGLE FAMILY</td>\n",
       "      <td>1802  STEWART PL</td>\n",
       "      <td>NaN</td>\n",
       "      <td>NASHVILLE</td>\n",
       "      <td>1/11/2013</td>\n",
       "      <td>20130118-0006337</td>\n",
       "      <td>No</td>\n",
       "      <td>No</td>\n",
       "      <td>...</td>\n",
       "      <td>134400</td>\n",
       "      <td>1149.00000</td>\n",
       "      <td>PT BSMT</td>\n",
       "      <td>1941</td>\n",
       "      <td>BRICK</td>\n",
       "      <td>C</td>\n",
       "      <td>2.0</td>\n",
       "      <td>1.0</td>\n",
       "      <td>0.0</td>\n",
       "      <td>Over</td>\n",
       "    </tr>\n",
       "    <tr>\n",
       "      <th>1</th>\n",
       "      <td>2</td>\n",
       "      <td>118 03 0 130.00</td>\n",
       "      <td>SINGLE FAMILY</td>\n",
       "      <td>2761  ROSEDALE PL</td>\n",
       "      <td>NaN</td>\n",
       "      <td>NASHVILLE</td>\n",
       "      <td>1/18/2013</td>\n",
       "      <td>20130124-0008033</td>\n",
       "      <td>No</td>\n",
       "      <td>No</td>\n",
       "      <td>...</td>\n",
       "      <td>157800</td>\n",
       "      <td>2090.82495</td>\n",
       "      <td>SLAB</td>\n",
       "      <td>2000</td>\n",
       "      <td>BRICK/FRAME</td>\n",
       "      <td>C</td>\n",
       "      <td>3.0</td>\n",
       "      <td>2.0</td>\n",
       "      <td>1.0</td>\n",
       "      <td>Over</td>\n",
       "    </tr>\n",
       "    <tr>\n",
       "      <th>2</th>\n",
       "      <td>3</td>\n",
       "      <td>119 01 0 479.00</td>\n",
       "      <td>SINGLE FAMILY</td>\n",
       "      <td>224  PEACHTREE ST</td>\n",
       "      <td>NaN</td>\n",
       "      <td>NASHVILLE</td>\n",
       "      <td>1/18/2013</td>\n",
       "      <td>20130128-0008863</td>\n",
       "      <td>No</td>\n",
       "      <td>No</td>\n",
       "      <td>...</td>\n",
       "      <td>243700</td>\n",
       "      <td>2145.60001</td>\n",
       "      <td>FULL BSMT</td>\n",
       "      <td>1948</td>\n",
       "      <td>BRICK/FRAME</td>\n",
       "      <td>B</td>\n",
       "      <td>4.0</td>\n",
       "      <td>2.0</td>\n",
       "      <td>0.0</td>\n",
       "      <td>Under</td>\n",
       "    </tr>\n",
       "    <tr>\n",
       "      <th>3</th>\n",
       "      <td>4</td>\n",
       "      <td>119 05 0 186.00</td>\n",
       "      <td>SINGLE FAMILY</td>\n",
       "      <td>316  LUTIE ST</td>\n",
       "      <td>NaN</td>\n",
       "      <td>NASHVILLE</td>\n",
       "      <td>1/23/2013</td>\n",
       "      <td>20130131-0009929</td>\n",
       "      <td>No</td>\n",
       "      <td>No</td>\n",
       "      <td>...</td>\n",
       "      <td>138100</td>\n",
       "      <td>1969.00000</td>\n",
       "      <td>CRAWL</td>\n",
       "      <td>1910</td>\n",
       "      <td>FRAME</td>\n",
       "      <td>C</td>\n",
       "      <td>2.0</td>\n",
       "      <td>1.0</td>\n",
       "      <td>0.0</td>\n",
       "      <td>Under</td>\n",
       "    </tr>\n",
       "    <tr>\n",
       "      <th>4</th>\n",
       "      <td>5</td>\n",
       "      <td>119 05 0 387.00</td>\n",
       "      <td>SINGLE FAMILY</td>\n",
       "      <td>2626  FOSTER AVE</td>\n",
       "      <td>NaN</td>\n",
       "      <td>NASHVILLE</td>\n",
       "      <td>1/4/2013</td>\n",
       "      <td>20130118-0006110</td>\n",
       "      <td>No</td>\n",
       "      <td>No</td>\n",
       "      <td>...</td>\n",
       "      <td>86100</td>\n",
       "      <td>1037.00000</td>\n",
       "      <td>CRAWL</td>\n",
       "      <td>1945</td>\n",
       "      <td>FRAME</td>\n",
       "      <td>C</td>\n",
       "      <td>2.0</td>\n",
       "      <td>1.0</td>\n",
       "      <td>0.0</td>\n",
       "      <td>Under</td>\n",
       "    </tr>\n",
       "  </tbody>\n",
       "</table>\n",
       "<p>5 rows × 26 columns</p>\n",
       "</div>"
      ],
      "text/plain": [
       "   Unnamed: 0        Parcel ID       Land Use   Property Address  \\\n",
       "0           1  105 11 0 080.00  SINGLE FAMILY   1802  STEWART PL   \n",
       "1           2  118 03 0 130.00  SINGLE FAMILY  2761  ROSEDALE PL   \n",
       "2           3  119 01 0 479.00  SINGLE FAMILY  224  PEACHTREE ST   \n",
       "3           4  119 05 0 186.00  SINGLE FAMILY      316  LUTIE ST   \n",
       "4           5  119 05 0 387.00  SINGLE FAMILY   2626  FOSTER AVE   \n",
       "\n",
       "   Suite/ Condo   # Property City  Sale Date   Legal Reference Sold As Vacant  \\\n",
       "0               NaN     NASHVILLE  1/11/2013  20130118-0006337             No   \n",
       "1               NaN     NASHVILLE  1/18/2013  20130124-0008033             No   \n",
       "2               NaN     NASHVILLE  1/18/2013  20130128-0008863             No   \n",
       "3               NaN     NASHVILLE  1/23/2013  20130131-0009929             No   \n",
       "4               NaN     NASHVILLE   1/4/2013  20130118-0006110             No   \n",
       "\n",
       "  Multiple Parcels Involved in Sale  ... Building Value Finished Area  \\\n",
       "0                                No  ...         134400    1149.00000   \n",
       "1                                No  ...         157800    2090.82495   \n",
       "2                                No  ...         243700    2145.60001   \n",
       "3                                No  ...         138100    1969.00000   \n",
       "4                                No  ...          86100    1037.00000   \n",
       "\n",
       "   Foundation Type Year Built  Exterior Wall  Grade  Bedrooms  Full Bath  \\\n",
       "0          PT BSMT       1941          BRICK   C          2.0        1.0   \n",
       "1             SLAB       2000    BRICK/FRAME   C          3.0        2.0   \n",
       "2        FULL BSMT       1948    BRICK/FRAME   B          4.0        2.0   \n",
       "3            CRAWL       1910          FRAME   C          2.0        1.0   \n",
       "4            CRAWL       1945          FRAME   C          2.0        1.0   \n",
       "\n",
       "  Half Bath  Sale Price Compared To Value  \n",
       "0       0.0                          Over  \n",
       "1       1.0                          Over  \n",
       "2       0.0                         Under  \n",
       "3       0.0                         Under  \n",
       "4       0.0                         Under  \n",
       "\n",
       "[5 rows x 26 columns]"
      ]
     },
     "execution_count": 108,
     "metadata": {},
     "output_type": "execute_result"
    }
   ],
   "source": [
    "df=pd.read_csv('/Users/vaibhavarora/Documents/NEU/CPS/ALY 6020/Project 4/week 4 - Nashville_housing_data.csv')\n",
    "df.head()"
   ]
  },
  {
   "cell_type": "code",
   "execution_count": 109,
   "id": "f08b823b",
   "metadata": {},
   "outputs": [
    {
     "data": {
      "text/plain": [
       "(22651, 26)"
      ]
     },
     "execution_count": 109,
     "metadata": {},
     "output_type": "execute_result"
    }
   ],
   "source": [
    "df.shape"
   ]
  },
  {
   "cell_type": "markdown",
   "id": "cd316371",
   "metadata": {},
   "source": [
    "# Part 1: Data Cleaning"
   ]
  },
  {
   "cell_type": "code",
   "execution_count": 110,
   "id": "d047be34",
   "metadata": {},
   "outputs": [
    {
     "data": {
      "text/plain": [
       "Unnamed: 0                               0\n",
       "Parcel ID                                0\n",
       "Land Use                                 0\n",
       "Property Address                         2\n",
       "Suite/ Condo   #                     22651\n",
       "Property City                            2\n",
       "Sale Date                                0\n",
       "Legal Reference                          0\n",
       "Sold As Vacant                           0\n",
       "Multiple Parcels Involved in Sale        0\n",
       "City                                     0\n",
       "State                                    0\n",
       "Acreage                                  0\n",
       "Tax District                             0\n",
       "Neighborhood                             0\n",
       "Land Value                               0\n",
       "Building Value                           0\n",
       "Finished Area                            1\n",
       "Foundation Type                          1\n",
       "Year Built                               0\n",
       "Exterior Wall                            0\n",
       "Grade                                    0\n",
       "Bedrooms                                 3\n",
       "Full Bath                                1\n",
       "Half Bath                              108\n",
       "Sale Price Compared To Value             0\n",
       "dtype: int64"
      ]
     },
     "execution_count": 110,
     "metadata": {},
     "output_type": "execute_result"
    }
   ],
   "source": [
    "df.isnull().sum()"
   ]
  },
  {
   "cell_type": "code",
   "execution_count": 111,
   "id": "65c52bff",
   "metadata": {},
   "outputs": [
    {
     "name": "stdout",
     "output_type": "stream",
     "text": [
      "<class 'pandas.core.frame.DataFrame'>\n",
      "RangeIndex: 22651 entries, 0 to 22650\n",
      "Data columns (total 26 columns):\n",
      " #   Column                             Non-Null Count  Dtype  \n",
      "---  ------                             --------------  -----  \n",
      " 0   Unnamed: 0                         22651 non-null  int64  \n",
      " 1   Parcel ID                          22651 non-null  object \n",
      " 2   Land Use                           22651 non-null  object \n",
      " 3   Property Address                   22649 non-null  object \n",
      " 4   Suite/ Condo   #                   0 non-null      float64\n",
      " 5   Property City                      22649 non-null  object \n",
      " 6   Sale Date                          22651 non-null  object \n",
      " 7   Legal Reference                    22651 non-null  object \n",
      " 8   Sold As Vacant                     22651 non-null  object \n",
      " 9   Multiple Parcels Involved in Sale  22651 non-null  object \n",
      " 10  City                               22651 non-null  object \n",
      " 11  State                              22651 non-null  object \n",
      " 12  Acreage                            22651 non-null  float64\n",
      " 13  Tax District                       22651 non-null  object \n",
      " 14  Neighborhood                       22651 non-null  int64  \n",
      " 15  Land Value                         22651 non-null  int64  \n",
      " 16  Building Value                     22651 non-null  int64  \n",
      " 17  Finished Area                      22650 non-null  float64\n",
      " 18  Foundation Type                    22650 non-null  object \n",
      " 19  Year Built                         22651 non-null  int64  \n",
      " 20  Exterior Wall                      22651 non-null  object \n",
      " 21  Grade                              22651 non-null  object \n",
      " 22  Bedrooms                           22648 non-null  float64\n",
      " 23  Full Bath                          22650 non-null  float64\n",
      " 24  Half Bath                          22543 non-null  float64\n",
      " 25  Sale Price Compared To Value       22651 non-null  object \n",
      "dtypes: float64(6), int64(5), object(15)\n",
      "memory usage: 4.5+ MB\n"
     ]
    }
   ],
   "source": [
    "df.info()"
   ]
  },
  {
   "cell_type": "code",
   "execution_count": 112,
   "id": "fdfbb248",
   "metadata": {},
   "outputs": [
    {
     "data": {
      "text/plain": [
       "SINGLE FAMILY             0.944329\n",
       "DUPLEX                    0.052536\n",
       "RESIDENTIAL COMBO/MISC    0.001633\n",
       "QUADPLEX                  0.001501\n",
       "Name: Land Use, dtype: float64"
      ]
     },
     "execution_count": 112,
     "metadata": {},
     "output_type": "execute_result"
    }
   ],
   "source": [
    "df['Land Use'].value_counts(normalize=True)"
   ]
  },
  {
   "cell_type": "code",
   "execution_count": 113,
   "id": "aef31cad",
   "metadata": {},
   "outputs": [
    {
     "data": {
      "text/plain": [
       "2351  HERMAN ST       4\n",
       "911  WARREN ST        4\n",
       "1910  LINDEN AVE      4\n",
       "944  SEYMOUR AVE      4\n",
       "2208 24TH  AVE N      4\n",
       "                     ..\n",
       "3005  DELANEY DR      1\n",
       "2805  RENEE DR        1\n",
       "2908  WINDEMERE CT    1\n",
       "303  BONNALYNN DR     1\n",
       "1614 5TH  AVE N       1\n",
       "Name: Property Address, Length: 20448, dtype: int64"
      ]
     },
     "execution_count": 113,
     "metadata": {},
     "output_type": "execute_result"
    }
   ],
   "source": [
    "df['Property Address'].value_counts()"
   ]
  },
  {
   "cell_type": "code",
   "execution_count": 114,
   "id": "4346c45e",
   "metadata": {},
   "outputs": [
    {
     "data": {
      "text/plain": [
       "NASHVILLE         0.795179\n",
       "MADISON           0.050598\n",
       "ANTIOCH           0.050024\n",
       "HERMITAGE         0.040311\n",
       "OLD HICKORY       0.036381\n",
       "GOODLETTSVILLE    0.019206\n",
       "BRENTWOOD         0.006976\n",
       "WHITES CREEK      0.000574\n",
       "JOELTON           0.000486\n",
       "MOUNT JULIET      0.000265\n",
       "Name: Property City, dtype: float64"
      ]
     },
     "execution_count": 114,
     "metadata": {},
     "output_type": "execute_result"
    }
   ],
   "source": [
    "df['Property City'].value_counts(normalize=True)"
   ]
  },
  {
   "cell_type": "code",
   "execution_count": 115,
   "id": "2ae0a613",
   "metadata": {},
   "outputs": [],
   "source": [
    "df[\"Sale Date\"] = pd.to_datetime(df[\"Sale Date\"])"
   ]
  },
  {
   "cell_type": "code",
   "execution_count": 116,
   "id": "20b6c678",
   "metadata": {},
   "outputs": [
    {
     "data": {
      "text/html": [
       "<div>\n",
       "<style scoped>\n",
       "    .dataframe tbody tr th:only-of-type {\n",
       "        vertical-align: middle;\n",
       "    }\n",
       "\n",
       "    .dataframe tbody tr th {\n",
       "        vertical-align: top;\n",
       "    }\n",
       "\n",
       "    .dataframe thead th {\n",
       "        text-align: right;\n",
       "    }\n",
       "</style>\n",
       "<table border=\"1\" class=\"dataframe\">\n",
       "  <thead>\n",
       "    <tr style=\"text-align: right;\">\n",
       "      <th></th>\n",
       "      <th>Unnamed: 0</th>\n",
       "      <th>Parcel ID</th>\n",
       "      <th>Land Use</th>\n",
       "      <th>Property Address</th>\n",
       "      <th>Suite/ Condo   #</th>\n",
       "      <th>Property City</th>\n",
       "      <th>Sale Date</th>\n",
       "      <th>Legal Reference</th>\n",
       "      <th>Sold As Vacant</th>\n",
       "      <th>Multiple Parcels Involved in Sale</th>\n",
       "      <th>...</th>\n",
       "      <th>Building Value</th>\n",
       "      <th>Finished Area</th>\n",
       "      <th>Foundation Type</th>\n",
       "      <th>Year Built</th>\n",
       "      <th>Exterior Wall</th>\n",
       "      <th>Grade</th>\n",
       "      <th>Bedrooms</th>\n",
       "      <th>Full Bath</th>\n",
       "      <th>Half Bath</th>\n",
       "      <th>Sale Price Compared To Value</th>\n",
       "    </tr>\n",
       "  </thead>\n",
       "  <tbody>\n",
       "    <tr>\n",
       "      <th>0</th>\n",
       "      <td>1</td>\n",
       "      <td>105 11 0 080.00</td>\n",
       "      <td>SINGLE FAMILY</td>\n",
       "      <td>1802  STEWART PL</td>\n",
       "      <td>NaN</td>\n",
       "      <td>NASHVILLE</td>\n",
       "      <td>2013-01-11</td>\n",
       "      <td>20130118-0006337</td>\n",
       "      <td>No</td>\n",
       "      <td>No</td>\n",
       "      <td>...</td>\n",
       "      <td>134400</td>\n",
       "      <td>1149.00000</td>\n",
       "      <td>PT BSMT</td>\n",
       "      <td>1941</td>\n",
       "      <td>BRICK</td>\n",
       "      <td>C</td>\n",
       "      <td>2.0</td>\n",
       "      <td>1.0</td>\n",
       "      <td>0.0</td>\n",
       "      <td>Over</td>\n",
       "    </tr>\n",
       "    <tr>\n",
       "      <th>1</th>\n",
       "      <td>2</td>\n",
       "      <td>118 03 0 130.00</td>\n",
       "      <td>SINGLE FAMILY</td>\n",
       "      <td>2761  ROSEDALE PL</td>\n",
       "      <td>NaN</td>\n",
       "      <td>NASHVILLE</td>\n",
       "      <td>2013-01-18</td>\n",
       "      <td>20130124-0008033</td>\n",
       "      <td>No</td>\n",
       "      <td>No</td>\n",
       "      <td>...</td>\n",
       "      <td>157800</td>\n",
       "      <td>2090.82495</td>\n",
       "      <td>SLAB</td>\n",
       "      <td>2000</td>\n",
       "      <td>BRICK/FRAME</td>\n",
       "      <td>C</td>\n",
       "      <td>3.0</td>\n",
       "      <td>2.0</td>\n",
       "      <td>1.0</td>\n",
       "      <td>Over</td>\n",
       "    </tr>\n",
       "    <tr>\n",
       "      <th>2</th>\n",
       "      <td>3</td>\n",
       "      <td>119 01 0 479.00</td>\n",
       "      <td>SINGLE FAMILY</td>\n",
       "      <td>224  PEACHTREE ST</td>\n",
       "      <td>NaN</td>\n",
       "      <td>NASHVILLE</td>\n",
       "      <td>2013-01-18</td>\n",
       "      <td>20130128-0008863</td>\n",
       "      <td>No</td>\n",
       "      <td>No</td>\n",
       "      <td>...</td>\n",
       "      <td>243700</td>\n",
       "      <td>2145.60001</td>\n",
       "      <td>FULL BSMT</td>\n",
       "      <td>1948</td>\n",
       "      <td>BRICK/FRAME</td>\n",
       "      <td>B</td>\n",
       "      <td>4.0</td>\n",
       "      <td>2.0</td>\n",
       "      <td>0.0</td>\n",
       "      <td>Under</td>\n",
       "    </tr>\n",
       "    <tr>\n",
       "      <th>3</th>\n",
       "      <td>4</td>\n",
       "      <td>119 05 0 186.00</td>\n",
       "      <td>SINGLE FAMILY</td>\n",
       "      <td>316  LUTIE ST</td>\n",
       "      <td>NaN</td>\n",
       "      <td>NASHVILLE</td>\n",
       "      <td>2013-01-23</td>\n",
       "      <td>20130131-0009929</td>\n",
       "      <td>No</td>\n",
       "      <td>No</td>\n",
       "      <td>...</td>\n",
       "      <td>138100</td>\n",
       "      <td>1969.00000</td>\n",
       "      <td>CRAWL</td>\n",
       "      <td>1910</td>\n",
       "      <td>FRAME</td>\n",
       "      <td>C</td>\n",
       "      <td>2.0</td>\n",
       "      <td>1.0</td>\n",
       "      <td>0.0</td>\n",
       "      <td>Under</td>\n",
       "    </tr>\n",
       "    <tr>\n",
       "      <th>4</th>\n",
       "      <td>5</td>\n",
       "      <td>119 05 0 387.00</td>\n",
       "      <td>SINGLE FAMILY</td>\n",
       "      <td>2626  FOSTER AVE</td>\n",
       "      <td>NaN</td>\n",
       "      <td>NASHVILLE</td>\n",
       "      <td>2013-01-04</td>\n",
       "      <td>20130118-0006110</td>\n",
       "      <td>No</td>\n",
       "      <td>No</td>\n",
       "      <td>...</td>\n",
       "      <td>86100</td>\n",
       "      <td>1037.00000</td>\n",
       "      <td>CRAWL</td>\n",
       "      <td>1945</td>\n",
       "      <td>FRAME</td>\n",
       "      <td>C</td>\n",
       "      <td>2.0</td>\n",
       "      <td>1.0</td>\n",
       "      <td>0.0</td>\n",
       "      <td>Under</td>\n",
       "    </tr>\n",
       "  </tbody>\n",
       "</table>\n",
       "<p>5 rows × 26 columns</p>\n",
       "</div>"
      ],
      "text/plain": [
       "   Unnamed: 0        Parcel ID       Land Use   Property Address  \\\n",
       "0           1  105 11 0 080.00  SINGLE FAMILY   1802  STEWART PL   \n",
       "1           2  118 03 0 130.00  SINGLE FAMILY  2761  ROSEDALE PL   \n",
       "2           3  119 01 0 479.00  SINGLE FAMILY  224  PEACHTREE ST   \n",
       "3           4  119 05 0 186.00  SINGLE FAMILY      316  LUTIE ST   \n",
       "4           5  119 05 0 387.00  SINGLE FAMILY   2626  FOSTER AVE   \n",
       "\n",
       "   Suite/ Condo   # Property City  Sale Date   Legal Reference Sold As Vacant  \\\n",
       "0               NaN     NASHVILLE 2013-01-11  20130118-0006337             No   \n",
       "1               NaN     NASHVILLE 2013-01-18  20130124-0008033             No   \n",
       "2               NaN     NASHVILLE 2013-01-18  20130128-0008863             No   \n",
       "3               NaN     NASHVILLE 2013-01-23  20130131-0009929             No   \n",
       "4               NaN     NASHVILLE 2013-01-04  20130118-0006110             No   \n",
       "\n",
       "  Multiple Parcels Involved in Sale  ... Building Value Finished Area  \\\n",
       "0                                No  ...         134400    1149.00000   \n",
       "1                                No  ...         157800    2090.82495   \n",
       "2                                No  ...         243700    2145.60001   \n",
       "3                                No  ...         138100    1969.00000   \n",
       "4                                No  ...          86100    1037.00000   \n",
       "\n",
       "   Foundation Type Year Built  Exterior Wall  Grade  Bedrooms  Full Bath  \\\n",
       "0          PT BSMT       1941          BRICK   C          2.0        1.0   \n",
       "1             SLAB       2000    BRICK/FRAME   C          3.0        2.0   \n",
       "2        FULL BSMT       1948    BRICK/FRAME   B          4.0        2.0   \n",
       "3            CRAWL       1910          FRAME   C          2.0        1.0   \n",
       "4            CRAWL       1945          FRAME   C          2.0        1.0   \n",
       "\n",
       "  Half Bath  Sale Price Compared To Value  \n",
       "0       0.0                          Over  \n",
       "1       1.0                          Over  \n",
       "2       0.0                         Under  \n",
       "3       0.0                         Under  \n",
       "4       0.0                         Under  \n",
       "\n",
       "[5 rows x 26 columns]"
      ]
     },
     "execution_count": 116,
     "metadata": {},
     "output_type": "execute_result"
    }
   ],
   "source": [
    "df.head()"
   ]
  },
  {
   "cell_type": "code",
   "execution_count": 117,
   "id": "b10ce2d8",
   "metadata": {},
   "outputs": [],
   "source": [
    "df['year'], df['month'], df['date'] = df['Sale Date'].dt.year, df['Sale Date'].dt.month,df['Sale Date'].dt.day"
   ]
  },
  {
   "cell_type": "code",
   "execution_count": 118,
   "id": "fb8366c7",
   "metadata": {},
   "outputs": [
    {
     "data": {
      "text/plain": [
       "20140403-0027868    7\n",
       "20150916-0093955    7\n",
       "20150805-0077719    6\n",
       "20160204-0010954    5\n",
       "20151002-0100496    5\n",
       "                   ..\n",
       "20140721-0064284    1\n",
       "20140718-0063818    1\n",
       "20140717-0063135    1\n",
       "20140728-0067027    1\n",
       "20161101-0115366    1\n",
       "Name: Legal Reference, Length: 22452, dtype: int64"
      ]
     },
     "execution_count": 118,
     "metadata": {},
     "output_type": "execute_result"
    }
   ],
   "source": [
    "df['Legal Reference'].value_counts()"
   ]
  },
  {
   "cell_type": "code",
   "execution_count": 119,
   "id": "7f631704",
   "metadata": {},
   "outputs": [
    {
     "data": {
      "text/plain": [
       "No     0.994084\n",
       "Yes    0.005916\n",
       "Name: Sold As Vacant, dtype: float64"
      ]
     },
     "execution_count": 119,
     "metadata": {},
     "output_type": "execute_result"
    }
   ],
   "source": [
    "df['Sold As Vacant'].value_counts(normalize=True)"
   ]
  },
  {
   "cell_type": "code",
   "execution_count": 120,
   "id": "8a31d1f0",
   "metadata": {},
   "outputs": [
    {
     "data": {
      "text/plain": [
       "No     0.979339\n",
       "Yes    0.020661\n",
       "Name: Multiple Parcels Involved in Sale, dtype: float64"
      ]
     },
     "execution_count": 120,
     "metadata": {},
     "output_type": "execute_result"
    }
   ],
   "source": [
    "df['Multiple Parcels Involved in Sale'].value_counts(normalize=True)"
   ]
  },
  {
   "cell_type": "code",
   "execution_count": 121,
   "id": "bcb23103",
   "metadata": {},
   "outputs": [
    {
     "data": {
      "text/plain": [
       "NASHVILLE         0.795241\n",
       "MADISON           0.050594\n",
       "ANTIOCH           0.050020\n",
       "HERMITAGE         0.040307\n",
       "OLD HICKORY       0.036378\n",
       "GOODLETTSVILLE    0.019204\n",
       "BRENTWOOD         0.006931\n",
       "WHITES CREEK      0.000574\n",
       "JOELTON           0.000486\n",
       "MOUNT JULIET      0.000265\n",
       "Name: City, dtype: float64"
      ]
     },
     "execution_count": 121,
     "metadata": {},
     "output_type": "execute_result"
    }
   ],
   "source": [
    "df['City'].value_counts(normalize=True)"
   ]
  },
  {
   "cell_type": "code",
   "execution_count": 122,
   "id": "192eb0ef",
   "metadata": {},
   "outputs": [
    {
     "data": {
      "text/plain": [
       "TN    22651\n",
       "Name: State, dtype: int64"
      ]
     },
     "execution_count": 122,
     "metadata": {},
     "output_type": "execute_result"
    }
   ],
   "source": [
    "df['State'].value_counts()"
   ]
  },
  {
   "cell_type": "code",
   "execution_count": 123,
   "id": "ec1dd4d6",
   "metadata": {},
   "outputs": [
    {
     "data": {
      "text/plain": [
       "count    22651.000000\n",
       "mean         0.454705\n",
       "std          0.611818\n",
       "min          0.040000\n",
       "25%          0.200000\n",
       "50%          0.280000\n",
       "75%          0.460000\n",
       "max         17.500000\n",
       "Name: Acreage, dtype: float64"
      ]
     },
     "execution_count": 123,
     "metadata": {},
     "output_type": "execute_result"
    }
   ],
   "source": [
    "df['Acreage'].describe()"
   ]
  },
  {
   "cell_type": "code",
   "execution_count": 124,
   "id": "5755a1fe",
   "metadata": {},
   "outputs": [
    {
     "data": {
      "text/plain": [
       "URBAN SERVICES DISTRICT      0.772460\n",
       "GENERAL SERVICES DISTRICT    0.171339\n",
       "CITY OF OAK HILL             0.015408\n",
       "CITY OF FOREST HILLS         0.015231\n",
       "CITY OF GOODLETTSVILLE       0.015187\n",
       "CITY OF BELLE MEADE          0.009448\n",
       "CITY OF BERRY HILL           0.000927\n",
       "Name: Tax District, dtype: float64"
      ]
     },
     "execution_count": 124,
     "metadata": {},
     "output_type": "execute_result"
    }
   ],
   "source": [
    "df['Tax District'].value_counts(normalize=True)"
   ]
  },
  {
   "cell_type": "code",
   "execution_count": 125,
   "id": "169944c7",
   "metadata": {},
   "outputs": [
    {
     "data": {
      "text/plain": [
       "CRAWL        0.627373\n",
       "FULL BSMT    0.168786\n",
       "PT BSMT      0.138896\n",
       "SLAB         0.063179\n",
       "PIERS        0.001589\n",
       "TYPICAL      0.000177\n",
       "Name: Foundation Type, dtype: float64"
      ]
     },
     "execution_count": 125,
     "metadata": {},
     "output_type": "execute_result"
    }
   ],
   "source": [
    "df['Foundation Type'].value_counts(normalize=True)"
   ]
  },
  {
   "cell_type": "code",
   "execution_count": 126,
   "id": "786d025c",
   "metadata": {},
   "outputs": [
    {
     "data": {
      "text/plain": [
       "BRICK          0.509779\n",
       "FRAME          0.360735\n",
       "BRICK/FRAME    0.098097\n",
       "STONE          0.014525\n",
       "STUCCO         0.006887\n",
       "FRAME/STONE    0.004591\n",
       "CONC BLK       0.004371\n",
       "LOG            0.000662\n",
       "METAL          0.000353\n",
       "Name: Exterior Wall, dtype: float64"
      ]
     },
     "execution_count": 126,
     "metadata": {},
     "output_type": "execute_result"
    }
   ],
   "source": [
    "df['Exterior Wall'].value_counts(normalize=True)"
   ]
  },
  {
   "cell_type": "code",
   "execution_count": 127,
   "id": "8b90a296",
   "metadata": {},
   "outputs": [
    {
     "data": {
      "text/plain": [
       "C       0.716745\n",
       "B       0.149883\n",
       "D       0.085162\n",
       "A       0.024237\n",
       "X       0.021279\n",
       "E       0.002516\n",
       "SSC     0.000044\n",
       "OFC     0.000044\n",
       "AAB     0.000044\n",
       "OFB     0.000044\n",
       "Name: Grade, dtype: float64"
      ]
     },
     "execution_count": 127,
     "metadata": {},
     "output_type": "execute_result"
    }
   ],
   "source": [
    "df['Grade'].value_counts(normalize=True)"
   ]
  },
  {
   "cell_type": "code",
   "execution_count": 128,
   "id": "75d20e0f",
   "metadata": {},
   "outputs": [
    {
     "data": {
      "text/plain": [
       "Over     0.752594\n",
       "Under    0.247406\n",
       "Name: Sale Price Compared To Value, dtype: float64"
      ]
     },
     "execution_count": 128,
     "metadata": {},
     "output_type": "execute_result"
    }
   ],
   "source": [
    "df['Sale Price Compared To Value'].value_counts(normalize=True)"
   ]
  },
  {
   "cell_type": "code",
   "execution_count": 129,
   "id": "f91d8790",
   "metadata": {},
   "outputs": [],
   "source": [
    "df.rename(columns=\n",
    "    {\"Multiple Parcels Involved in Sale\":\"Parcels\",\"Property Address\":\"Address\",\"Sale Price Compared To Value\":\"Value\"}, \n",
    "    inplace=True)"
   ]
  },
  {
   "cell_type": "code",
   "execution_count": 130,
   "id": "82a96273",
   "metadata": {},
   "outputs": [
    {
     "name": "stdout",
     "output_type": "stream",
     "text": [
      "<class 'pandas.core.frame.DataFrame'>\n",
      "RangeIndex: 22651 entries, 0 to 22650\n",
      "Data columns (total 29 columns):\n",
      " #   Column            Non-Null Count  Dtype         \n",
      "---  ------            --------------  -----         \n",
      " 0   Unnamed: 0        22651 non-null  int64         \n",
      " 1   Parcel ID         22651 non-null  object        \n",
      " 2   Land Use          22651 non-null  object        \n",
      " 3   Address           22649 non-null  object        \n",
      " 4   Suite/ Condo   #  0 non-null      float64       \n",
      " 5   Property City     22649 non-null  object        \n",
      " 6   Sale Date         22651 non-null  datetime64[ns]\n",
      " 7   Legal Reference   22651 non-null  object        \n",
      " 8   Sold As Vacant    22651 non-null  object        \n",
      " 9   Parcels           22651 non-null  object        \n",
      " 10  City              22651 non-null  object        \n",
      " 11  State             22651 non-null  object        \n",
      " 12  Acreage           22651 non-null  float64       \n",
      " 13  Tax District      22651 non-null  object        \n",
      " 14  Neighborhood      22651 non-null  int64         \n",
      " 15  Land Value        22651 non-null  int64         \n",
      " 16  Building Value    22651 non-null  int64         \n",
      " 17  Finished Area     22650 non-null  float64       \n",
      " 18  Foundation Type   22650 non-null  object        \n",
      " 19  Year Built        22651 non-null  int64         \n",
      " 20  Exterior Wall     22651 non-null  object        \n",
      " 21  Grade             22651 non-null  object        \n",
      " 22  Bedrooms          22648 non-null  float64       \n",
      " 23  Full Bath         22650 non-null  float64       \n",
      " 24  Half Bath         22543 non-null  float64       \n",
      " 25  Value             22651 non-null  object        \n",
      " 26  year              22651 non-null  int64         \n",
      " 27  month             22651 non-null  int64         \n",
      " 28  date              22651 non-null  int64         \n",
      "dtypes: datetime64[ns](1), float64(6), int64(8), object(14)\n",
      "memory usage: 5.0+ MB\n"
     ]
    }
   ],
   "source": [
    "df.info()"
   ]
  },
  {
   "cell_type": "code",
   "execution_count": 131,
   "id": "d684b283",
   "metadata": {},
   "outputs": [],
   "source": [
    "df = df.drop(['Unnamed: 0','Suite/ Condo   #','Parcel ID','Address','Legal Reference','Property City','State'], axis=1)"
   ]
  },
  {
   "cell_type": "code",
   "execution_count": 132,
   "id": "bfd7f7ab",
   "metadata": {},
   "outputs": [
    {
     "data": {
      "text/plain": [
       "(22651, 22)"
      ]
     },
     "execution_count": 132,
     "metadata": {},
     "output_type": "execute_result"
    }
   ],
   "source": [
    "df.shape"
   ]
  },
  {
   "cell_type": "code",
   "execution_count": 133,
   "id": "65f39c19",
   "metadata": {},
   "outputs": [
    {
     "data": {
      "text/html": [
       "<div>\n",
       "<style scoped>\n",
       "    .dataframe tbody tr th:only-of-type {\n",
       "        vertical-align: middle;\n",
       "    }\n",
       "\n",
       "    .dataframe tbody tr th {\n",
       "        vertical-align: top;\n",
       "    }\n",
       "\n",
       "    .dataframe thead th {\n",
       "        text-align: right;\n",
       "    }\n",
       "</style>\n",
       "<table border=\"1\" class=\"dataframe\">\n",
       "  <thead>\n",
       "    <tr style=\"text-align: right;\">\n",
       "      <th></th>\n",
       "      <th>Land Use</th>\n",
       "      <th>Sale Date</th>\n",
       "      <th>Sold As Vacant</th>\n",
       "      <th>Parcels</th>\n",
       "      <th>City</th>\n",
       "      <th>Acreage</th>\n",
       "      <th>Tax District</th>\n",
       "      <th>Neighborhood</th>\n",
       "      <th>Land Value</th>\n",
       "      <th>Building Value</th>\n",
       "      <th>...</th>\n",
       "      <th>Year Built</th>\n",
       "      <th>Exterior Wall</th>\n",
       "      <th>Grade</th>\n",
       "      <th>Bedrooms</th>\n",
       "      <th>Full Bath</th>\n",
       "      <th>Half Bath</th>\n",
       "      <th>Value</th>\n",
       "      <th>year</th>\n",
       "      <th>month</th>\n",
       "      <th>date</th>\n",
       "    </tr>\n",
       "  </thead>\n",
       "  <tbody>\n",
       "    <tr>\n",
       "      <th>0</th>\n",
       "      <td>SINGLE FAMILY</td>\n",
       "      <td>2013-01-11</td>\n",
       "      <td>No</td>\n",
       "      <td>No</td>\n",
       "      <td>NASHVILLE</td>\n",
       "      <td>0.17</td>\n",
       "      <td>URBAN SERVICES DISTRICT</td>\n",
       "      <td>3127</td>\n",
       "      <td>32000</td>\n",
       "      <td>134400</td>\n",
       "      <td>...</td>\n",
       "      <td>1941</td>\n",
       "      <td>BRICK</td>\n",
       "      <td>C</td>\n",
       "      <td>2.0</td>\n",
       "      <td>1.0</td>\n",
       "      <td>0.0</td>\n",
       "      <td>Over</td>\n",
       "      <td>2013</td>\n",
       "      <td>1</td>\n",
       "      <td>11</td>\n",
       "    </tr>\n",
       "    <tr>\n",
       "      <th>1</th>\n",
       "      <td>SINGLE FAMILY</td>\n",
       "      <td>2013-01-18</td>\n",
       "      <td>No</td>\n",
       "      <td>No</td>\n",
       "      <td>NASHVILLE</td>\n",
       "      <td>0.11</td>\n",
       "      <td>CITY OF BERRY HILL</td>\n",
       "      <td>9126</td>\n",
       "      <td>34000</td>\n",
       "      <td>157800</td>\n",
       "      <td>...</td>\n",
       "      <td>2000</td>\n",
       "      <td>BRICK/FRAME</td>\n",
       "      <td>C</td>\n",
       "      <td>3.0</td>\n",
       "      <td>2.0</td>\n",
       "      <td>1.0</td>\n",
       "      <td>Over</td>\n",
       "      <td>2013</td>\n",
       "      <td>1</td>\n",
       "      <td>18</td>\n",
       "    </tr>\n",
       "    <tr>\n",
       "      <th>2</th>\n",
       "      <td>SINGLE FAMILY</td>\n",
       "      <td>2013-01-18</td>\n",
       "      <td>No</td>\n",
       "      <td>No</td>\n",
       "      <td>NASHVILLE</td>\n",
       "      <td>0.17</td>\n",
       "      <td>URBAN SERVICES DISTRICT</td>\n",
       "      <td>3130</td>\n",
       "      <td>25000</td>\n",
       "      <td>243700</td>\n",
       "      <td>...</td>\n",
       "      <td>1948</td>\n",
       "      <td>BRICK/FRAME</td>\n",
       "      <td>B</td>\n",
       "      <td>4.0</td>\n",
       "      <td>2.0</td>\n",
       "      <td>0.0</td>\n",
       "      <td>Under</td>\n",
       "      <td>2013</td>\n",
       "      <td>1</td>\n",
       "      <td>18</td>\n",
       "    </tr>\n",
       "    <tr>\n",
       "      <th>3</th>\n",
       "      <td>SINGLE FAMILY</td>\n",
       "      <td>2013-01-23</td>\n",
       "      <td>No</td>\n",
       "      <td>No</td>\n",
       "      <td>NASHVILLE</td>\n",
       "      <td>0.34</td>\n",
       "      <td>URBAN SERVICES DISTRICT</td>\n",
       "      <td>3130</td>\n",
       "      <td>25000</td>\n",
       "      <td>138100</td>\n",
       "      <td>...</td>\n",
       "      <td>1910</td>\n",
       "      <td>FRAME</td>\n",
       "      <td>C</td>\n",
       "      <td>2.0</td>\n",
       "      <td>1.0</td>\n",
       "      <td>0.0</td>\n",
       "      <td>Under</td>\n",
       "      <td>2013</td>\n",
       "      <td>1</td>\n",
       "      <td>23</td>\n",
       "    </tr>\n",
       "    <tr>\n",
       "      <th>4</th>\n",
       "      <td>SINGLE FAMILY</td>\n",
       "      <td>2013-01-04</td>\n",
       "      <td>No</td>\n",
       "      <td>No</td>\n",
       "      <td>NASHVILLE</td>\n",
       "      <td>0.17</td>\n",
       "      <td>URBAN SERVICES DISTRICT</td>\n",
       "      <td>3130</td>\n",
       "      <td>25000</td>\n",
       "      <td>86100</td>\n",
       "      <td>...</td>\n",
       "      <td>1945</td>\n",
       "      <td>FRAME</td>\n",
       "      <td>C</td>\n",
       "      <td>2.0</td>\n",
       "      <td>1.0</td>\n",
       "      <td>0.0</td>\n",
       "      <td>Under</td>\n",
       "      <td>2013</td>\n",
       "      <td>1</td>\n",
       "      <td>4</td>\n",
       "    </tr>\n",
       "    <tr>\n",
       "      <th>...</th>\n",
       "      <td>...</td>\n",
       "      <td>...</td>\n",
       "      <td>...</td>\n",
       "      <td>...</td>\n",
       "      <td>...</td>\n",
       "      <td>...</td>\n",
       "      <td>...</td>\n",
       "      <td>...</td>\n",
       "      <td>...</td>\n",
       "      <td>...</td>\n",
       "      <td>...</td>\n",
       "      <td>...</td>\n",
       "      <td>...</td>\n",
       "      <td>...</td>\n",
       "      <td>...</td>\n",
       "      <td>...</td>\n",
       "      <td>...</td>\n",
       "      <td>...</td>\n",
       "      <td>...</td>\n",
       "      <td>...</td>\n",
       "      <td>...</td>\n",
       "    </tr>\n",
       "    <tr>\n",
       "      <th>22646</th>\n",
       "      <td>SINGLE FAMILY</td>\n",
       "      <td>2016-10-13</td>\n",
       "      <td>No</td>\n",
       "      <td>No</td>\n",
       "      <td>ANTIOCH</td>\n",
       "      <td>0.38</td>\n",
       "      <td>URBAN SERVICES DISTRICT</td>\n",
       "      <td>6328</td>\n",
       "      <td>25000</td>\n",
       "      <td>105000</td>\n",
       "      <td>...</td>\n",
       "      <td>1996</td>\n",
       "      <td>BRICK/FRAME</td>\n",
       "      <td>C</td>\n",
       "      <td>3.0</td>\n",
       "      <td>2.0</td>\n",
       "      <td>0.0</td>\n",
       "      <td>Over</td>\n",
       "      <td>2016</td>\n",
       "      <td>10</td>\n",
       "      <td>13</td>\n",
       "    </tr>\n",
       "    <tr>\n",
       "      <th>22647</th>\n",
       "      <td>SINGLE FAMILY</td>\n",
       "      <td>2016-10-26</td>\n",
       "      <td>No</td>\n",
       "      <td>No</td>\n",
       "      <td>ANTIOCH</td>\n",
       "      <td>0.27</td>\n",
       "      <td>URBAN SERVICES DISTRICT</td>\n",
       "      <td>6328</td>\n",
       "      <td>25000</td>\n",
       "      <td>142400</td>\n",
       "      <td>...</td>\n",
       "      <td>1996</td>\n",
       "      <td>BRICK/FRAME</td>\n",
       "      <td>C</td>\n",
       "      <td>3.0</td>\n",
       "      <td>3.0</td>\n",
       "      <td>0.0</td>\n",
       "      <td>Over</td>\n",
       "      <td>2016</td>\n",
       "      <td>10</td>\n",
       "      <td>26</td>\n",
       "    </tr>\n",
       "    <tr>\n",
       "      <th>22648</th>\n",
       "      <td>SINGLE FAMILY</td>\n",
       "      <td>2016-10-28</td>\n",
       "      <td>No</td>\n",
       "      <td>No</td>\n",
       "      <td>ANTIOCH</td>\n",
       "      <td>0.23</td>\n",
       "      <td>URBAN SERVICES DISTRICT</td>\n",
       "      <td>6328</td>\n",
       "      <td>25000</td>\n",
       "      <td>159300</td>\n",
       "      <td>...</td>\n",
       "      <td>1995</td>\n",
       "      <td>BRICK/FRAME</td>\n",
       "      <td>C</td>\n",
       "      <td>3.0</td>\n",
       "      <td>3.0</td>\n",
       "      <td>0.0</td>\n",
       "      <td>Over</td>\n",
       "      <td>2016</td>\n",
       "      <td>10</td>\n",
       "      <td>28</td>\n",
       "    </tr>\n",
       "    <tr>\n",
       "      <th>22649</th>\n",
       "      <td>SINGLE FAMILY</td>\n",
       "      <td>2016-10-28</td>\n",
       "      <td>No</td>\n",
       "      <td>No</td>\n",
       "      <td>NASHVILLE</td>\n",
       "      <td>0.15</td>\n",
       "      <td>URBAN SERVICES DISTRICT</td>\n",
       "      <td>126</td>\n",
       "      <td>40000</td>\n",
       "      <td>204100</td>\n",
       "      <td>...</td>\n",
       "      <td>2004</td>\n",
       "      <td>FRAME</td>\n",
       "      <td>B</td>\n",
       "      <td>3.0</td>\n",
       "      <td>2.0</td>\n",
       "      <td>1.0</td>\n",
       "      <td>Over</td>\n",
       "      <td>2016</td>\n",
       "      <td>10</td>\n",
       "      <td>28</td>\n",
       "    </tr>\n",
       "    <tr>\n",
       "      <th>22650</th>\n",
       "      <td>SINGLE FAMILY</td>\n",
       "      <td>2016-10-26</td>\n",
       "      <td>No</td>\n",
       "      <td>No</td>\n",
       "      <td>NASHVILLE</td>\n",
       "      <td>0.19</td>\n",
       "      <td>URBAN SERVICES DISTRICT</td>\n",
       "      <td>126</td>\n",
       "      <td>40000</td>\n",
       "      <td>295900</td>\n",
       "      <td>...</td>\n",
       "      <td>2005</td>\n",
       "      <td>FRAME</td>\n",
       "      <td>B</td>\n",
       "      <td>4.0</td>\n",
       "      <td>3.0</td>\n",
       "      <td>1.0</td>\n",
       "      <td>Over</td>\n",
       "      <td>2016</td>\n",
       "      <td>10</td>\n",
       "      <td>26</td>\n",
       "    </tr>\n",
       "  </tbody>\n",
       "</table>\n",
       "<p>22538 rows × 22 columns</p>\n",
       "</div>"
      ],
      "text/plain": [
       "            Land Use  Sale Date Sold As Vacant Parcels       City  Acreage  \\\n",
       "0      SINGLE FAMILY 2013-01-11             No      No  NASHVILLE     0.17   \n",
       "1      SINGLE FAMILY 2013-01-18             No      No  NASHVILLE     0.11   \n",
       "2      SINGLE FAMILY 2013-01-18             No      No  NASHVILLE     0.17   \n",
       "3      SINGLE FAMILY 2013-01-23             No      No  NASHVILLE     0.34   \n",
       "4      SINGLE FAMILY 2013-01-04             No      No  NASHVILLE     0.17   \n",
       "...              ...        ...            ...     ...        ...      ...   \n",
       "22646  SINGLE FAMILY 2016-10-13             No      No    ANTIOCH     0.38   \n",
       "22647  SINGLE FAMILY 2016-10-26             No      No    ANTIOCH     0.27   \n",
       "22648  SINGLE FAMILY 2016-10-28             No      No    ANTIOCH     0.23   \n",
       "22649  SINGLE FAMILY 2016-10-28             No      No  NASHVILLE     0.15   \n",
       "22650  SINGLE FAMILY 2016-10-26             No      No  NASHVILLE     0.19   \n",
       "\n",
       "                  Tax District  Neighborhood  Land Value  Building Value  ...  \\\n",
       "0      URBAN SERVICES DISTRICT          3127       32000          134400  ...   \n",
       "1           CITY OF BERRY HILL          9126       34000          157800  ...   \n",
       "2      URBAN SERVICES DISTRICT          3130       25000          243700  ...   \n",
       "3      URBAN SERVICES DISTRICT          3130       25000          138100  ...   \n",
       "4      URBAN SERVICES DISTRICT          3130       25000           86100  ...   \n",
       "...                        ...           ...         ...             ...  ...   \n",
       "22646  URBAN SERVICES DISTRICT          6328       25000          105000  ...   \n",
       "22647  URBAN SERVICES DISTRICT          6328       25000          142400  ...   \n",
       "22648  URBAN SERVICES DISTRICT          6328       25000          159300  ...   \n",
       "22649  URBAN SERVICES DISTRICT           126       40000          204100  ...   \n",
       "22650  URBAN SERVICES DISTRICT           126       40000          295900  ...   \n",
       "\n",
       "       Year Built Exterior Wall  Grade Bedrooms Full Bath  Half Bath  Value  \\\n",
       "0            1941         BRICK   C         2.0       1.0        0.0   Over   \n",
       "1            2000   BRICK/FRAME   C         3.0       2.0        1.0   Over   \n",
       "2            1948   BRICK/FRAME   B         4.0       2.0        0.0  Under   \n",
       "3            1910         FRAME   C         2.0       1.0        0.0  Under   \n",
       "4            1945         FRAME   C         2.0       1.0        0.0  Under   \n",
       "...           ...           ...    ...      ...       ...        ...    ...   \n",
       "22646        1996   BRICK/FRAME   C         3.0       2.0        0.0   Over   \n",
       "22647        1996   BRICK/FRAME   C         3.0       3.0        0.0   Over   \n",
       "22648        1995   BRICK/FRAME   C         3.0       3.0        0.0   Over   \n",
       "22649        2004         FRAME   B         3.0       2.0        1.0   Over   \n",
       "22650        2005         FRAME   B         4.0       3.0        1.0   Over   \n",
       "\n",
       "       year month  date  \n",
       "0      2013     1    11  \n",
       "1      2013     1    18  \n",
       "2      2013     1    18  \n",
       "3      2013     1    23  \n",
       "4      2013     1     4  \n",
       "...     ...   ...   ...  \n",
       "22646  2016    10    13  \n",
       "22647  2016    10    26  \n",
       "22648  2016    10    28  \n",
       "22649  2016    10    28  \n",
       "22650  2016    10    26  \n",
       "\n",
       "[22538 rows x 22 columns]"
      ]
     },
     "execution_count": 133,
     "metadata": {},
     "output_type": "execute_result"
    }
   ],
   "source": [
    "df.dropna()"
   ]
  },
  {
   "cell_type": "code",
   "execution_count": 134,
   "id": "98b9b5b8",
   "metadata": {},
   "outputs": [
    {
     "data": {
      "text/plain": [
       "(22651, 22)"
      ]
     },
     "execution_count": 134,
     "metadata": {},
     "output_type": "execute_result"
    }
   ],
   "source": [
    "df.shape"
   ]
  },
  {
   "cell_type": "code",
   "execution_count": 135,
   "id": "c9a69467",
   "metadata": {},
   "outputs": [
    {
     "data": {
      "text/plain": [
       "[dtype('int64'), dtype('O'), dtype('float64'), dtype('<M8[ns]')]"
      ]
     },
     "execution_count": 135,
     "metadata": {},
     "output_type": "execute_result"
    }
   ],
   "source": [
    "list(set(df.dtypes.tolist()))"
   ]
  },
  {
   "cell_type": "code",
   "execution_count": 136,
   "id": "83f2de6a",
   "metadata": {},
   "outputs": [
    {
     "data": {
      "text/html": [
       "<div>\n",
       "<style scoped>\n",
       "    .dataframe tbody tr th:only-of-type {\n",
       "        vertical-align: middle;\n",
       "    }\n",
       "\n",
       "    .dataframe tbody tr th {\n",
       "        vertical-align: top;\n",
       "    }\n",
       "\n",
       "    .dataframe thead th {\n",
       "        text-align: right;\n",
       "    }\n",
       "</style>\n",
       "<table border=\"1\" class=\"dataframe\">\n",
       "  <thead>\n",
       "    <tr style=\"text-align: right;\">\n",
       "      <th></th>\n",
       "      <th>Acreage</th>\n",
       "      <th>Neighborhood</th>\n",
       "      <th>Land Value</th>\n",
       "      <th>Building Value</th>\n",
       "      <th>Finished Area</th>\n",
       "      <th>Year Built</th>\n",
       "      <th>Bedrooms</th>\n",
       "      <th>Full Bath</th>\n",
       "      <th>Half Bath</th>\n",
       "      <th>year</th>\n",
       "      <th>month</th>\n",
       "      <th>date</th>\n",
       "    </tr>\n",
       "  </thead>\n",
       "  <tbody>\n",
       "    <tr>\n",
       "      <th>0</th>\n",
       "      <td>0.17</td>\n",
       "      <td>3127</td>\n",
       "      <td>32000</td>\n",
       "      <td>134400</td>\n",
       "      <td>1149.00000</td>\n",
       "      <td>1941</td>\n",
       "      <td>2.0</td>\n",
       "      <td>1.0</td>\n",
       "      <td>0.0</td>\n",
       "      <td>2013</td>\n",
       "      <td>1</td>\n",
       "      <td>11</td>\n",
       "    </tr>\n",
       "    <tr>\n",
       "      <th>1</th>\n",
       "      <td>0.11</td>\n",
       "      <td>9126</td>\n",
       "      <td>34000</td>\n",
       "      <td>157800</td>\n",
       "      <td>2090.82495</td>\n",
       "      <td>2000</td>\n",
       "      <td>3.0</td>\n",
       "      <td>2.0</td>\n",
       "      <td>1.0</td>\n",
       "      <td>2013</td>\n",
       "      <td>1</td>\n",
       "      <td>18</td>\n",
       "    </tr>\n",
       "    <tr>\n",
       "      <th>2</th>\n",
       "      <td>0.17</td>\n",
       "      <td>3130</td>\n",
       "      <td>25000</td>\n",
       "      <td>243700</td>\n",
       "      <td>2145.60001</td>\n",
       "      <td>1948</td>\n",
       "      <td>4.0</td>\n",
       "      <td>2.0</td>\n",
       "      <td>0.0</td>\n",
       "      <td>2013</td>\n",
       "      <td>1</td>\n",
       "      <td>18</td>\n",
       "    </tr>\n",
       "    <tr>\n",
       "      <th>3</th>\n",
       "      <td>0.34</td>\n",
       "      <td>3130</td>\n",
       "      <td>25000</td>\n",
       "      <td>138100</td>\n",
       "      <td>1969.00000</td>\n",
       "      <td>1910</td>\n",
       "      <td>2.0</td>\n",
       "      <td>1.0</td>\n",
       "      <td>0.0</td>\n",
       "      <td>2013</td>\n",
       "      <td>1</td>\n",
       "      <td>23</td>\n",
       "    </tr>\n",
       "    <tr>\n",
       "      <th>4</th>\n",
       "      <td>0.17</td>\n",
       "      <td>3130</td>\n",
       "      <td>25000</td>\n",
       "      <td>86100</td>\n",
       "      <td>1037.00000</td>\n",
       "      <td>1945</td>\n",
       "      <td>2.0</td>\n",
       "      <td>1.0</td>\n",
       "      <td>0.0</td>\n",
       "      <td>2013</td>\n",
       "      <td>1</td>\n",
       "      <td>4</td>\n",
       "    </tr>\n",
       "  </tbody>\n",
       "</table>\n",
       "</div>"
      ],
      "text/plain": [
       "   Acreage  Neighborhood  Land Value  Building Value  Finished Area  \\\n",
       "0     0.17          3127       32000          134400     1149.00000   \n",
       "1     0.11          9126       34000          157800     2090.82495   \n",
       "2     0.17          3130       25000          243700     2145.60001   \n",
       "3     0.34          3130       25000          138100     1969.00000   \n",
       "4     0.17          3130       25000           86100     1037.00000   \n",
       "\n",
       "   Year Built  Bedrooms  Full Bath  Half Bath  year  month  date  \n",
       "0        1941       2.0        1.0        0.0  2013      1    11  \n",
       "1        2000       3.0        2.0        1.0  2013      1    18  \n",
       "2        1948       4.0        2.0        0.0  2013      1    18  \n",
       "3        1910       2.0        1.0        0.0  2013      1    23  \n",
       "4        1945       2.0        1.0        0.0  2013      1     4  "
      ]
     },
     "execution_count": 136,
     "metadata": {},
     "output_type": "execute_result"
    }
   ],
   "source": [
    "df_num = df.select_dtypes(include = ['int64','float64'])\n",
    "df_num.head()"
   ]
  },
  {
   "cell_type": "code",
   "execution_count": 137,
   "id": "a567c02f",
   "metadata": {},
   "outputs": [
    {
     "data": {
      "text/html": [
       "<div>\n",
       "<style scoped>\n",
       "    .dataframe tbody tr th:only-of-type {\n",
       "        vertical-align: middle;\n",
       "    }\n",
       "\n",
       "    .dataframe tbody tr th {\n",
       "        vertical-align: top;\n",
       "    }\n",
       "\n",
       "    .dataframe thead th {\n",
       "        text-align: right;\n",
       "    }\n",
       "</style>\n",
       "<table border=\"1\" class=\"dataframe\">\n",
       "  <thead>\n",
       "    <tr style=\"text-align: right;\">\n",
       "      <th></th>\n",
       "      <th>Land Use</th>\n",
       "      <th>Sold As Vacant</th>\n",
       "      <th>Parcels</th>\n",
       "      <th>City</th>\n",
       "      <th>Tax District</th>\n",
       "      <th>Foundation Type</th>\n",
       "      <th>Exterior Wall</th>\n",
       "      <th>Grade</th>\n",
       "      <th>Value</th>\n",
       "    </tr>\n",
       "  </thead>\n",
       "  <tbody>\n",
       "    <tr>\n",
       "      <th>0</th>\n",
       "      <td>SINGLE FAMILY</td>\n",
       "      <td>No</td>\n",
       "      <td>No</td>\n",
       "      <td>NASHVILLE</td>\n",
       "      <td>URBAN SERVICES DISTRICT</td>\n",
       "      <td>PT BSMT</td>\n",
       "      <td>BRICK</td>\n",
       "      <td>C</td>\n",
       "      <td>Over</td>\n",
       "    </tr>\n",
       "    <tr>\n",
       "      <th>1</th>\n",
       "      <td>SINGLE FAMILY</td>\n",
       "      <td>No</td>\n",
       "      <td>No</td>\n",
       "      <td>NASHVILLE</td>\n",
       "      <td>CITY OF BERRY HILL</td>\n",
       "      <td>SLAB</td>\n",
       "      <td>BRICK/FRAME</td>\n",
       "      <td>C</td>\n",
       "      <td>Over</td>\n",
       "    </tr>\n",
       "    <tr>\n",
       "      <th>2</th>\n",
       "      <td>SINGLE FAMILY</td>\n",
       "      <td>No</td>\n",
       "      <td>No</td>\n",
       "      <td>NASHVILLE</td>\n",
       "      <td>URBAN SERVICES DISTRICT</td>\n",
       "      <td>FULL BSMT</td>\n",
       "      <td>BRICK/FRAME</td>\n",
       "      <td>B</td>\n",
       "      <td>Under</td>\n",
       "    </tr>\n",
       "    <tr>\n",
       "      <th>3</th>\n",
       "      <td>SINGLE FAMILY</td>\n",
       "      <td>No</td>\n",
       "      <td>No</td>\n",
       "      <td>NASHVILLE</td>\n",
       "      <td>URBAN SERVICES DISTRICT</td>\n",
       "      <td>CRAWL</td>\n",
       "      <td>FRAME</td>\n",
       "      <td>C</td>\n",
       "      <td>Under</td>\n",
       "    </tr>\n",
       "    <tr>\n",
       "      <th>4</th>\n",
       "      <td>SINGLE FAMILY</td>\n",
       "      <td>No</td>\n",
       "      <td>No</td>\n",
       "      <td>NASHVILLE</td>\n",
       "      <td>URBAN SERVICES DISTRICT</td>\n",
       "      <td>CRAWL</td>\n",
       "      <td>FRAME</td>\n",
       "      <td>C</td>\n",
       "      <td>Under</td>\n",
       "    </tr>\n",
       "  </tbody>\n",
       "</table>\n",
       "</div>"
      ],
      "text/plain": [
       "        Land Use Sold As Vacant Parcels       City             Tax District  \\\n",
       "0  SINGLE FAMILY             No      No  NASHVILLE  URBAN SERVICES DISTRICT   \n",
       "1  SINGLE FAMILY             No      No  NASHVILLE       CITY OF BERRY HILL   \n",
       "2  SINGLE FAMILY             No      No  NASHVILLE  URBAN SERVICES DISTRICT   \n",
       "3  SINGLE FAMILY             No      No  NASHVILLE  URBAN SERVICES DISTRICT   \n",
       "4  SINGLE FAMILY             No      No  NASHVILLE  URBAN SERVICES DISTRICT   \n",
       "\n",
       "  Foundation Type Exterior Wall Grade  Value  \n",
       "0         PT BSMT         BRICK  C      Over  \n",
       "1            SLAB   BRICK/FRAME  C      Over  \n",
       "2       FULL BSMT   BRICK/FRAME  B     Under  \n",
       "3           CRAWL         FRAME  C     Under  \n",
       "4           CRAWL         FRAME  C     Under  "
      ]
     },
     "execution_count": 137,
     "metadata": {},
     "output_type": "execute_result"
    }
   ],
   "source": [
    "df_ob = df.select_dtypes(include = ['O'])\n",
    "df_ob.head()"
   ]
  },
  {
   "cell_type": "code",
   "execution_count": 138,
   "id": "8f91b2d0",
   "metadata": {},
   "outputs": [
    {
     "data": {
      "image/png": "[encoded data removed]",
      "text/plain": [
       "<Figure size 864x720 with 12 Axes>"
      ]
     },
     "metadata": {
      "needs_background": "light"
     },
     "output_type": "display_data"
    }
   ],
   "source": [
    "df_num.hist(figsize=(12, 10), bins=40);"
   ]
  },
  {
   "cell_type": "code",
   "execution_count": 139,
   "id": "b30bc8ba",
   "metadata": {},
   "outputs": [
    {
     "data": {
      "text/html": [
       "<div>\n",
       "<style scoped>\n",
       "    .dataframe tbody tr th:only-of-type {\n",
       "        vertical-align: middle;\n",
       "    }\n",
       "\n",
       "    .dataframe tbody tr th {\n",
       "        vertical-align: top;\n",
       "    }\n",
       "\n",
       "    .dataframe thead th {\n",
       "        text-align: right;\n",
       "    }\n",
       "</style>\n",
       "<table border=\"1\" class=\"dataframe\">\n",
       "  <thead>\n",
       "    <tr style=\"text-align: right;\">\n",
       "      <th></th>\n",
       "      <th>Acreage</th>\n",
       "      <th>Neighborhood</th>\n",
       "      <th>Land Value</th>\n",
       "      <th>Building Value</th>\n",
       "      <th>Finished Area</th>\n",
       "      <th>Year Built</th>\n",
       "      <th>Bedrooms</th>\n",
       "      <th>Full Bath</th>\n",
       "      <th>Half Bath</th>\n",
       "      <th>year</th>\n",
       "      <th>month</th>\n",
       "      <th>date</th>\n",
       "    </tr>\n",
       "  </thead>\n",
       "  <tbody>\n",
       "    <tr>\n",
       "      <th>count</th>\n",
       "      <td>22651.000000</td>\n",
       "      <td>22651.000000</td>\n",
       "      <td>2.265100e+04</td>\n",
       "      <td>2.265100e+04</td>\n",
       "      <td>22650.000000</td>\n",
       "      <td>22651.000000</td>\n",
       "      <td>22648.000000</td>\n",
       "      <td>22650.000000</td>\n",
       "      <td>22543.000000</td>\n",
       "      <td>22651.000000</td>\n",
       "      <td>22651.000000</td>\n",
       "      <td>22651.000000</td>\n",
       "    </tr>\n",
       "    <tr>\n",
       "      <th>mean</th>\n",
       "      <td>0.454705</td>\n",
       "      <td>4432.715024</td>\n",
       "      <td>7.013797e+04</td>\n",
       "      <td>1.722402e+05</td>\n",
       "      <td>1915.377151</td>\n",
       "      <td>1961.947684</td>\n",
       "      <td>3.104910</td>\n",
       "      <td>1.887285</td>\n",
       "      <td>0.270239</td>\n",
       "      <td>2014.565008</td>\n",
       "      <td>6.597236</td>\n",
       "      <td>17.143702</td>\n",
       "    </tr>\n",
       "    <tr>\n",
       "      <th>std</th>\n",
       "      <td>0.611818</td>\n",
       "      <td>2142.803595</td>\n",
       "      <td>1.029035e+05</td>\n",
       "      <td>1.896424e+05</td>\n",
       "      <td>1079.094521</td>\n",
       "      <td>25.843908</td>\n",
       "      <td>0.829287</td>\n",
       "      <td>0.951220</td>\n",
       "      <td>0.480186</td>\n",
       "      <td>1.082778</td>\n",
       "      <td>3.077129</td>\n",
       "      <td>9.036739</td>\n",
       "    </tr>\n",
       "    <tr>\n",
       "      <th>min</th>\n",
       "      <td>0.040000</td>\n",
       "      <td>107.000000</td>\n",
       "      <td>9.000000e+02</td>\n",
       "      <td>1.400000e+03</td>\n",
       "      <td>450.000000</td>\n",
       "      <td>1832.000000</td>\n",
       "      <td>0.000000</td>\n",
       "      <td>0.000000</td>\n",
       "      <td>0.000000</td>\n",
       "      <td>2013.000000</td>\n",
       "      <td>1.000000</td>\n",
       "      <td>1.000000</td>\n",
       "    </tr>\n",
       "    <tr>\n",
       "      <th>25%</th>\n",
       "      <td>0.200000</td>\n",
       "      <td>3130.000000</td>\n",
       "      <td>2.200000e+04</td>\n",
       "      <td>8.550000e+04</td>\n",
       "      <td>1250.000000</td>\n",
       "      <td>1947.000000</td>\n",
       "      <td>3.000000</td>\n",
       "      <td>1.000000</td>\n",
       "      <td>0.000000</td>\n",
       "      <td>2014.000000</td>\n",
       "      <td>4.000000</td>\n",
       "      <td>10.000000</td>\n",
       "    </tr>\n",
       "    <tr>\n",
       "      <th>50%</th>\n",
       "      <td>0.280000</td>\n",
       "      <td>4026.000000</td>\n",
       "      <td>3.000000e+04</td>\n",
       "      <td>1.188000e+05</td>\n",
       "      <td>1645.824995</td>\n",
       "      <td>1959.000000</td>\n",
       "      <td>3.000000</td>\n",
       "      <td>2.000000</td>\n",
       "      <td>0.000000</td>\n",
       "      <td>2015.000000</td>\n",
       "      <td>7.000000</td>\n",
       "      <td>17.000000</td>\n",
       "    </tr>\n",
       "    <tr>\n",
       "      <th>75%</th>\n",
       "      <td>0.460000</td>\n",
       "      <td>6229.000000</td>\n",
       "      <td>6.030000e+04</td>\n",
       "      <td>1.882500e+05</td>\n",
       "      <td>2213.375000</td>\n",
       "      <td>1977.000000</td>\n",
       "      <td>4.000000</td>\n",
       "      <td>2.000000</td>\n",
       "      <td>1.000000</td>\n",
       "      <td>2015.000000</td>\n",
       "      <td>9.000000</td>\n",
       "      <td>25.000000</td>\n",
       "    </tr>\n",
       "    <tr>\n",
       "      <th>max</th>\n",
       "      <td>17.500000</td>\n",
       "      <td>9530.000000</td>\n",
       "      <td>1.869000e+06</td>\n",
       "      <td>5.824300e+06</td>\n",
       "      <td>19728.249880</td>\n",
       "      <td>2017.000000</td>\n",
       "      <td>11.000000</td>\n",
       "      <td>10.000000</td>\n",
       "      <td>3.000000</td>\n",
       "      <td>2016.000000</td>\n",
       "      <td>12.000000</td>\n",
       "      <td>31.000000</td>\n",
       "    </tr>\n",
       "  </tbody>\n",
       "</table>\n",
       "</div>"
      ],
      "text/plain": [
       "            Acreage  Neighborhood    Land Value  Building Value  \\\n",
       "count  22651.000000  22651.000000  2.265100e+04    2.265100e+04   \n",
       "mean       0.454705   4432.715024  7.013797e+04    1.722402e+05   \n",
       "std        0.611818   2142.803595  1.029035e+05    1.896424e+05   \n",
       "min        0.040000    107.000000  9.000000e+02    1.400000e+03   \n",
       "25%        0.200000   3130.000000  2.200000e+04    8.550000e+04   \n",
       "50%        0.280000   4026.000000  3.000000e+04    1.188000e+05   \n",
       "75%        0.460000   6229.000000  6.030000e+04    1.882500e+05   \n",
       "max       17.500000   9530.000000  1.869000e+06    5.824300e+06   \n",
       "\n",
       "       Finished Area    Year Built      Bedrooms     Full Bath     Half Bath  \\\n",
       "count   22650.000000  22651.000000  22648.000000  22650.000000  22543.000000   \n",
       "mean     1915.377151   1961.947684      3.104910      1.887285      0.270239   \n",
       "std      1079.094521     25.843908      0.829287      0.951220      0.480186   \n",
       "min       450.000000   1832.000000      0.000000      0.000000      0.000000   \n",
       "25%      1250.000000   1947.000000      3.000000      1.000000      0.000000   \n",
       "50%      1645.824995   1959.000000      3.000000      2.000000      0.000000   \n",
       "75%      2213.375000   1977.000000      4.000000      2.000000      1.000000   \n",
       "max     19728.249880   2017.000000     11.000000     10.000000      3.000000   \n",
       "\n",
       "               year         month          date  \n",
       "count  22651.000000  22651.000000  22651.000000  \n",
       "mean    2014.565008      6.597236     17.143702  \n",
       "std        1.082778      3.077129      9.036739  \n",
       "min     2013.000000      1.000000      1.000000  \n",
       "25%     2014.000000      4.000000     10.000000  \n",
       "50%     2015.000000      7.000000     17.000000  \n",
       "75%     2015.000000      9.000000     25.000000  \n",
       "max     2016.000000     12.000000     31.000000  "
      ]
     },
     "execution_count": 139,
     "metadata": {},
     "output_type": "execute_result"
    }
   ],
   "source": [
    "df_num.describe()"
   ]
  },
  {
   "cell_type": "code",
   "execution_count": 140,
   "id": "a7061ed4",
   "metadata": {},
   "outputs": [],
   "source": [
    "df_skew=df[[\"Land Value\",\"Building Value\",\"Finished Area\",\"Acreage\"]]"
   ]
  },
  {
   "cell_type": "code",
   "execution_count": 141,
   "id": "35f22f57",
   "metadata": {},
   "outputs": [
    {
     "data": {
      "text/html": [
       "<div>\n",
       "<style scoped>\n",
       "    .dataframe tbody tr th:only-of-type {\n",
       "        vertical-align: middle;\n",
       "    }\n",
       "\n",
       "    .dataframe tbody tr th {\n",
       "        vertical-align: top;\n",
       "    }\n",
       "\n",
       "    .dataframe thead th {\n",
       "        text-align: right;\n",
       "    }\n",
       "</style>\n",
       "<table border=\"1\" class=\"dataframe\">\n",
       "  <thead>\n",
       "    <tr style=\"text-align: right;\">\n",
       "      <th></th>\n",
       "      <th>Land Value</th>\n",
       "      <th>Building Value</th>\n",
       "      <th>Finished Area</th>\n",
       "      <th>Acreage</th>\n",
       "    </tr>\n",
       "  </thead>\n",
       "  <tbody>\n",
       "    <tr>\n",
       "      <th>0</th>\n",
       "      <td>32000</td>\n",
       "      <td>134400</td>\n",
       "      <td>1149.00000</td>\n",
       "      <td>0.17</td>\n",
       "    </tr>\n",
       "    <tr>\n",
       "      <th>1</th>\n",
       "      <td>34000</td>\n",
       "      <td>157800</td>\n",
       "      <td>2090.82495</td>\n",
       "      <td>0.11</td>\n",
       "    </tr>\n",
       "    <tr>\n",
       "      <th>2</th>\n",
       "      <td>25000</td>\n",
       "      <td>243700</td>\n",
       "      <td>2145.60001</td>\n",
       "      <td>0.17</td>\n",
       "    </tr>\n",
       "    <tr>\n",
       "      <th>3</th>\n",
       "      <td>25000</td>\n",
       "      <td>138100</td>\n",
       "      <td>1969.00000</td>\n",
       "      <td>0.34</td>\n",
       "    </tr>\n",
       "    <tr>\n",
       "      <th>4</th>\n",
       "      <td>25000</td>\n",
       "      <td>86100</td>\n",
       "      <td>1037.00000</td>\n",
       "      <td>0.17</td>\n",
       "    </tr>\n",
       "    <tr>\n",
       "      <th>...</th>\n",
       "      <td>...</td>\n",
       "      <td>...</td>\n",
       "      <td>...</td>\n",
       "      <td>...</td>\n",
       "    </tr>\n",
       "    <tr>\n",
       "      <th>22646</th>\n",
       "      <td>25000</td>\n",
       "      <td>105000</td>\n",
       "      <td>1758.00000</td>\n",
       "      <td>0.38</td>\n",
       "    </tr>\n",
       "    <tr>\n",
       "      <th>22647</th>\n",
       "      <td>25000</td>\n",
       "      <td>142400</td>\n",
       "      <td>2421.00000</td>\n",
       "      <td>0.27</td>\n",
       "    </tr>\n",
       "    <tr>\n",
       "      <th>22648</th>\n",
       "      <td>25000</td>\n",
       "      <td>159300</td>\n",
       "      <td>3117.00000</td>\n",
       "      <td>0.23</td>\n",
       "    </tr>\n",
       "    <tr>\n",
       "      <th>22649</th>\n",
       "      <td>40000</td>\n",
       "      <td>204100</td>\n",
       "      <td>1637.00000</td>\n",
       "      <td>0.15</td>\n",
       "    </tr>\n",
       "    <tr>\n",
       "      <th>22650</th>\n",
       "      <td>40000</td>\n",
       "      <td>295900</td>\n",
       "      <td>2478.00000</td>\n",
       "      <td>0.19</td>\n",
       "    </tr>\n",
       "  </tbody>\n",
       "</table>\n",
       "<p>22651 rows × 4 columns</p>\n",
       "</div>"
      ],
      "text/plain": [
       "       Land Value  Building Value  Finished Area  Acreage\n",
       "0           32000          134400     1149.00000     0.17\n",
       "1           34000          157800     2090.82495     0.11\n",
       "2           25000          243700     2145.60001     0.17\n",
       "3           25000          138100     1969.00000     0.34\n",
       "4           25000           86100     1037.00000     0.17\n",
       "...           ...             ...            ...      ...\n",
       "22646       25000          105000     1758.00000     0.38\n",
       "22647       25000          142400     2421.00000     0.27\n",
       "22648       25000          159300     3117.00000     0.23\n",
       "22649       40000          204100     1637.00000     0.15\n",
       "22650       40000          295900     2478.00000     0.19\n",
       "\n",
       "[22651 rows x 4 columns]"
      ]
     },
     "execution_count": 141,
     "metadata": {},
     "output_type": "execute_result"
    }
   ],
   "source": [
    "df_skew"
   ]
  },
  {
   "cell_type": "code",
   "execution_count": 142,
   "id": "c21265df",
   "metadata": {},
   "outputs": [
    {
     "data": {
      "image/png": "[encoded data removed]",
      "text/plain": [
       "<Figure size 432x288 with 1 Axes>"
      ]
     },
     "metadata": {
      "needs_background": "light"
     },
     "output_type": "display_data"
    },
    {
     "data": {
      "image/png": "[encoded data removed]",
      "text/plain": [
       "<Figure size 432x288 with 1 Axes>"
      ]
     },
     "metadata": {
      "needs_background": "light"
     },
     "output_type": "display_data"
    },
    {
     "data": {
      "image/png": "[encoded data removed]",
      "text/plain": [
       "<Figure size 432x288 with 1 Axes>"
      ]
     },
     "metadata": {
      "needs_background": "light"
     },
     "output_type": "display_data"
    },
    {
     "data": {
      "image/png": "[encoded data removed]",
      "text/plain": [
       "<Figure size 432x288 with 1 Axes>"
      ]
     },
     "metadata": {
      "needs_background": "light"
     },
     "output_type": "display_data"
    }
   ],
   "source": [
    "for column in df_skew.columns:\n",
    "    plt.figure() \n",
    "    sns.boxplot(y=column,data=df_skew)"
   ]
  },
  {
   "cell_type": "code",
   "execution_count": 143,
   "id": "1ff1c419",
   "metadata": {},
   "outputs": [
    {
     "data": {
      "text/plain": [
       "(22651, 22)"
      ]
     },
     "execution_count": 143,
     "metadata": {},
     "output_type": "execute_result"
    }
   ],
   "source": [
    "df.shape"
   ]
  },
  {
   "cell_type": "code",
   "execution_count": 144,
   "id": "76b517bd",
   "metadata": {},
   "outputs": [
    {
     "name": "stdout",
     "output_type": "stream",
     "text": [
      "Mean - Land Value: 70137.97\n",
      "Standard - Deviation Land Value: 102901.23\n"
     ]
    }
   ],
   "source": [
    "mean_lv = np.mean(df[\"Land Value\"])\n",
    "sigma_lv = np.std(df[\"Land Value\"])\n",
    "print(\"Mean - Land Value: {:.2f}\".format(mean_lv))\n",
    "print(\"Standard - Deviation Land Value: {:.2f}\".format(sigma_lv))"
   ]
  },
  {
   "cell_type": "code",
   "execution_count": 145,
   "id": "68c90485",
   "metadata": {},
   "outputs": [
    {
     "name": "stdout",
     "output_type": "stream",
     "text": [
      "Good data for Land Value should lie between -135664.50 and 275940.43\n"
     ]
    }
   ],
   "source": [
    "lower_range_lv = mean_lv-(2*sigma_lv)\n",
    "upper_range_lv = mean_lv+(2*sigma_lv)\n",
    "print(\"Good data for Land Value should lie between {:.2f} and {:.2f}\".format(lower_range_lv, upper_range_lv))"
   ]
  },
  {
   "cell_type": "code",
   "execution_count": 146,
   "id": "6a0d28ad",
   "metadata": {},
   "outputs": [
    {
     "name": "stdout",
     "output_type": "stream",
     "text": [
      "Number of outliers: 990\n"
     ]
    }
   ],
   "source": [
    "outliers_lv = [i for i in df[\"Land Value\"] if i<lower_range_lv or i>upper_range_lv]\n",
    "print(\"Number of outliers:\",len(outliers_lv))"
   ]
  },
  {
   "cell_type": "code",
   "execution_count": 147,
   "id": "06d93be2",
   "metadata": {},
   "outputs": [],
   "source": [
    "df.drop(df[(df[\"Land Value\"]<lower_range_lv) | (df[\"Land Value\"]>upper_range_lv)].index, inplace=True)"
   ]
  },
  {
   "cell_type": "code",
   "execution_count": 148,
   "id": "7d376633",
   "metadata": {},
   "outputs": [
    {
     "name": "stdout",
     "output_type": "stream",
     "text": [
      "Number of outliers: 918\n"
     ]
    }
   ],
   "source": [
    "mean_bv = np.mean(df[\"Building Value\"])\n",
    "sigma_bv = np.std(df[\"Building Value\"])\n",
    "lower_range_bv = mean_bv-(2*sigma_bv)\n",
    "upper_range_bv = mean_bv+(2*sigma_bv)\n",
    "outliers_bv = [i for i in df[\"Building Value\"] if i<lower_range_bv or i>upper_range_bv]\n",
    "df.drop(df[(df[\"Building Value\"]<lower_range_bv) | (df[\"Building Value\"]>upper_range_bv)].index, inplace=True)\n",
    "print(\"Number of outliers:\",len(outliers_bv))"
   ]
  },
  {
   "cell_type": "code",
   "execution_count": 149,
   "id": "579911cd",
   "metadata": {},
   "outputs": [
    {
     "name": "stdout",
     "output_type": "stream",
     "text": [
      "Number of outliers: 890\n"
     ]
    }
   ],
   "source": [
    "mean_fa = np.mean(df[\"Finished Area\"])\n",
    "sigma_fa = np.std(df[\"Finished Area\"])\n",
    "lower_range_fa = mean_fa-(2*sigma_fa)\n",
    "upper_range_fa = mean_fa+(2*sigma_fa)\n",
    "outliers_fa = [i for i in df[\"Finished Area\"] if i<lower_range_fa or i>upper_range_fa]\n",
    "df.drop(df[(df[\"Finished Area\"]<lower_range_fa) | (df[\"Finished Area\"]>upper_range_fa)].index, inplace=True)\n",
    "print(\"Number of outliers:\",len(outliers_fa))"
   ]
  },
  {
   "cell_type": "code",
   "execution_count": 150,
   "id": "518dbaec",
   "metadata": {},
   "outputs": [
    {
     "name": "stdout",
     "output_type": "stream",
     "text": [
      "Number of outliers: 395\n"
     ]
    }
   ],
   "source": [
    "mean_ac = np.mean(df[\"Acreage\"])\n",
    "sigma_ac = np.std(df[\"Acreage\"])\n",
    "lower_range_ac = mean_ac-(2*sigma_ac)\n",
    "upper_range_ac = mean_ac+(2*sigma_ac)\n",
    "outliers_ac= [i for i in df[\"Acreage\"] if i<lower_range_ac or i>upper_range_ac]\n",
    "df.drop(df[(df[\"Acreage\"]<lower_range_ac) | (df[\"Acreage\"]>upper_range_ac)].index, inplace=True)\n",
    "print(\"Number of outliers:\",len(outliers_ac))"
   ]
  },
  {
   "cell_type": "code",
   "execution_count": 151,
   "id": "19871c43",
   "metadata": {},
   "outputs": [
    {
     "data": {
      "text/plain": [
       "(19458, 22)"
      ]
     },
     "execution_count": 151,
     "metadata": {},
     "output_type": "execute_result"
    }
   ],
   "source": [
    "df.shape"
   ]
  },
  {
   "cell_type": "code",
   "execution_count": 152,
   "id": "2f48f3f5",
   "metadata": {},
   "outputs": [],
   "source": [
    "df_skew=df[[\"Land Value\",\"Building Value\",\"Finished Area\",\"Acreage\"]]"
   ]
  },
  {
   "cell_type": "code",
   "execution_count": 153,
   "id": "97894fd0",
   "metadata": {},
   "outputs": [
    {
     "data": {
      "text/plain": [
       "(19458, 4)"
      ]
     },
     "execution_count": 153,
     "metadata": {},
     "output_type": "execute_result"
    }
   ],
   "source": [
    "df_skew.shape"
   ]
  },
  {
   "cell_type": "code",
   "execution_count": 154,
   "id": "1a8bc1ce",
   "metadata": {},
   "outputs": [
    {
     "data": {
      "image/png": "[encoded data removed]",
      "text/plain": [
       "<Figure size 432x288 with 1 Axes>"
      ]
     },
     "metadata": {
      "needs_background": "light"
     },
     "output_type": "display_data"
    },
    {
     "data": {
      "image/png": "[encoded data removed]",
      "text/plain": [
       "<Figure size 432x288 with 1 Axes>"
      ]
     },
     "metadata": {
      "needs_background": "light"
     },
     "output_type": "display_data"
    },
    {
     "data": {
      "image/png": "[encoded data removed]",
      "text/plain": [
       "<Figure size 432x288 with 1 Axes>"
      ]
     },
     "metadata": {
      "needs_background": "light"
     },
     "output_type": "display_data"
    },
    {
     "data": {
      "image/png": "[encoded data removed]",
      "text/plain": [
       "<Figure size 432x288 with 1 Axes>"
      ]
     },
     "metadata": {
      "needs_background": "light"
     },
     "output_type": "display_data"
    }
   ],
   "source": [
    "for column in df_skew.columns:\n",
    "    plt.figure() \n",
    "    sns.boxplot(y=column,data=df_skew)"
   ]
  },
  {
   "cell_type": "code",
   "execution_count": 155,
   "id": "289ce1b6",
   "metadata": {},
   "outputs": [],
   "source": [
    "df['Property_Age'] = df[\"year\"] - df[\"Year Built\"]"
   ]
  },
  {
   "cell_type": "code",
   "execution_count": 156,
   "id": "b57c1d7c",
   "metadata": {},
   "outputs": [],
   "source": [
    "df = df.drop(['Neighborhood','Year Built','Sale Date'], axis=1)"
   ]
  },
  {
   "cell_type": "code",
   "execution_count": 157,
   "id": "96d78b7e",
   "metadata": {},
   "outputs": [
    {
     "data": {
      "text/plain": [
       "(19458, 20)"
      ]
     },
     "execution_count": 157,
     "metadata": {},
     "output_type": "execute_result"
    }
   ],
   "source": [
    "df.shape"
   ]
  },
  {
   "cell_type": "code",
   "execution_count": 158,
   "id": "6160d728",
   "metadata": {},
   "outputs": [],
   "source": [
    "#df = pd.get_dummies(df, drop_first = True, columns=['Value'])"
   ]
  },
  {
   "cell_type": "code",
   "execution_count": 159,
   "id": "bf952427",
   "metadata": {},
   "outputs": [
    {
     "name": "stdout",
     "output_type": "stream",
     "text": [
      "<class 'pandas.core.frame.DataFrame'>\n",
      "Int64Index: 19458 entries, 0 to 22650\n",
      "Data columns (total 20 columns):\n",
      " #   Column           Non-Null Count  Dtype  \n",
      "---  ------           --------------  -----  \n",
      " 0   Land Use         19458 non-null  object \n",
      " 1   Sold As Vacant   19458 non-null  object \n",
      " 2   Parcels          19458 non-null  object \n",
      " 3   City             19458 non-null  object \n",
      " 4   Acreage          19458 non-null  float64\n",
      " 5   Tax District     19458 non-null  object \n",
      " 6   Land Value       19458 non-null  int64  \n",
      " 7   Building Value   19458 non-null  int64  \n",
      " 8   Finished Area    19457 non-null  float64\n",
      " 9   Foundation Type  19458 non-null  object \n",
      " 10  Exterior Wall    19458 non-null  object \n",
      " 11  Grade            19458 non-null  object \n",
      " 12  Bedrooms         19458 non-null  float64\n",
      " 13  Full Bath        19458 non-null  float64\n",
      " 14  Half Bath        19359 non-null  float64\n",
      " 15  Value            19458 non-null  object \n",
      " 16  year             19458 non-null  int64  \n",
      " 17  month            19458 non-null  int64  \n",
      " 18  date             19458 non-null  int64  \n",
      " 19  Property_Age     19458 non-null  int64  \n",
      "dtypes: float64(5), int64(6), object(9)\n",
      "memory usage: 3.1+ MB\n"
     ]
    }
   ],
   "source": [
    "df.info()"
   ]
  },
  {
   "cell_type": "code",
   "execution_count": 160,
   "id": "ca7493cb",
   "metadata": {},
   "outputs": [],
   "source": [
    "df_num = df.select_dtypes(include = ['int64','float64','uint8'])"
   ]
  },
  {
   "cell_type": "markdown",
   "id": "2b7c4f1f",
   "metadata": {},
   "source": [
    "# Exploratory Data Analysis"
   ]
  },
  {
   "cell_type": "code",
   "execution_count": 161,
   "id": "1a7720de",
   "metadata": {},
   "outputs": [
    {
     "data": {
      "text/html": [
       "<div>\n",
       "<style scoped>\n",
       "    .dataframe tbody tr th:only-of-type {\n",
       "        vertical-align: middle;\n",
       "    }\n",
       "\n",
       "    .dataframe tbody tr th {\n",
       "        vertical-align: top;\n",
       "    }\n",
       "\n",
       "    .dataframe thead th {\n",
       "        text-align: right;\n",
       "    }\n",
       "</style>\n",
       "<table border=\"1\" class=\"dataframe\">\n",
       "  <thead>\n",
       "    <tr style=\"text-align: right;\">\n",
       "      <th></th>\n",
       "      <th>Acreage</th>\n",
       "      <th>Land Value</th>\n",
       "      <th>Building Value</th>\n",
       "      <th>Finished Area</th>\n",
       "      <th>Bedrooms</th>\n",
       "      <th>Full Bath</th>\n",
       "      <th>Half Bath</th>\n",
       "      <th>year</th>\n",
       "      <th>month</th>\n",
       "      <th>date</th>\n",
       "      <th>Property_Age</th>\n",
       "    </tr>\n",
       "  </thead>\n",
       "  <tbody>\n",
       "    <tr>\n",
       "      <th>0</th>\n",
       "      <td>0.17</td>\n",
       "      <td>32000</td>\n",
       "      <td>134400</td>\n",
       "      <td>1149.00000</td>\n",
       "      <td>2.0</td>\n",
       "      <td>1.0</td>\n",
       "      <td>0.0</td>\n",
       "      <td>2013</td>\n",
       "      <td>1</td>\n",
       "      <td>11</td>\n",
       "      <td>72</td>\n",
       "    </tr>\n",
       "    <tr>\n",
       "      <th>1</th>\n",
       "      <td>0.11</td>\n",
       "      <td>34000</td>\n",
       "      <td>157800</td>\n",
       "      <td>2090.82495</td>\n",
       "      <td>3.0</td>\n",
       "      <td>2.0</td>\n",
       "      <td>1.0</td>\n",
       "      <td>2013</td>\n",
       "      <td>1</td>\n",
       "      <td>18</td>\n",
       "      <td>13</td>\n",
       "    </tr>\n",
       "    <tr>\n",
       "      <th>2</th>\n",
       "      <td>0.17</td>\n",
       "      <td>25000</td>\n",
       "      <td>243700</td>\n",
       "      <td>2145.60001</td>\n",
       "      <td>4.0</td>\n",
       "      <td>2.0</td>\n",
       "      <td>0.0</td>\n",
       "      <td>2013</td>\n",
       "      <td>1</td>\n",
       "      <td>18</td>\n",
       "      <td>65</td>\n",
       "    </tr>\n",
       "    <tr>\n",
       "      <th>3</th>\n",
       "      <td>0.34</td>\n",
       "      <td>25000</td>\n",
       "      <td>138100</td>\n",
       "      <td>1969.00000</td>\n",
       "      <td>2.0</td>\n",
       "      <td>1.0</td>\n",
       "      <td>0.0</td>\n",
       "      <td>2013</td>\n",
       "      <td>1</td>\n",
       "      <td>23</td>\n",
       "      <td>103</td>\n",
       "    </tr>\n",
       "    <tr>\n",
       "      <th>4</th>\n",
       "      <td>0.17</td>\n",
       "      <td>25000</td>\n",
       "      <td>86100</td>\n",
       "      <td>1037.00000</td>\n",
       "      <td>2.0</td>\n",
       "      <td>1.0</td>\n",
       "      <td>0.0</td>\n",
       "      <td>2013</td>\n",
       "      <td>1</td>\n",
       "      <td>4</td>\n",
       "      <td>68</td>\n",
       "    </tr>\n",
       "  </tbody>\n",
       "</table>\n",
       "</div>"
      ],
      "text/plain": [
       "   Acreage  Land Value  Building Value  Finished Area  Bedrooms  Full Bath  \\\n",
       "0     0.17       32000          134400     1149.00000       2.0        1.0   \n",
       "1     0.11       34000          157800     2090.82495       3.0        2.0   \n",
       "2     0.17       25000          243700     2145.60001       4.0        2.0   \n",
       "3     0.34       25000          138100     1969.00000       2.0        1.0   \n",
       "4     0.17       25000           86100     1037.00000       2.0        1.0   \n",
       "\n",
       "   Half Bath  year  month  date  Property_Age  \n",
       "0        0.0  2013      1    11            72  \n",
       "1        1.0  2013      1    18            13  \n",
       "2        0.0  2013      1    18            65  \n",
       "3        0.0  2013      1    23           103  \n",
       "4        0.0  2013      1     4            68  "
      ]
     },
     "execution_count": 161,
     "metadata": {},
     "output_type": "execute_result"
    }
   ],
   "source": [
    "df_num.head()"
   ]
  },
  {
   "cell_type": "code",
   "execution_count": 162,
   "id": "9bf36459",
   "metadata": {},
   "outputs": [
    {
     "data": {
      "image/png": "[encoded data removed]",
      "text/plain": [
       "<Figure size 864x720 with 12 Axes>"
      ]
     },
     "metadata": {
      "needs_background": "light"
     },
     "output_type": "display_data"
    }
   ],
   "source": [
    "df_num.hist(figsize=(12, 10), bins=40);"
   ]
  },
  {
   "cell_type": "code",
   "execution_count": 163,
   "id": "890ebf37",
   "metadata": {},
   "outputs": [
    {
     "data": {
      "text/plain": [
       "[]"
      ]
     },
     "execution_count": 163,
     "metadata": {},
     "output_type": "execute_result"
    },
    {
     "data": {
      "image/png": "[encoded data removed]",
      "text/plain": [
       "<Figure size 720x792 with 2 Axes>"
      ]
     },
     "metadata": {
      "needs_background": "light"
     },
     "output_type": "display_data"
    }
   ],
   "source": [
    "plt.figure(figsize=(10,11))\n",
    "sns.heatmap(df_num.corr(),annot=True)\n",
    "plt.plot()"
   ]
  },
  {
   "cell_type": "code",
   "execution_count": 164,
   "id": "4854eee4",
   "metadata": {},
   "outputs": [],
   "source": [
    "df = df.loc[df['City'] == \"NASHVILLE\"]\n",
    "df = df.drop(['City'], axis=1)"
   ]
  },
  {
   "cell_type": "code",
   "execution_count": 165,
   "id": "166b0006",
   "metadata": {},
   "outputs": [
    {
     "name": "stdout",
     "output_type": "stream",
     "text": [
      "<class 'pandas.core.frame.DataFrame'>\n",
      "Int64Index: 15242 entries, 0 to 22650\n",
      "Data columns (total 8 columns):\n",
      " #   Column           Non-Null Count  Dtype \n",
      "---  ------           --------------  ----- \n",
      " 0   Land Use         15242 non-null  object\n",
      " 1   Sold As Vacant   15242 non-null  object\n",
      " 2   Parcels          15242 non-null  object\n",
      " 3   Tax District     15242 non-null  object\n",
      " 4   Foundation Type  15242 non-null  object\n",
      " 5   Exterior Wall    15242 non-null  object\n",
      " 6   Grade            15242 non-null  object\n",
      " 7   Value            15242 non-null  object\n",
      "dtypes: object(8)\n",
      "memory usage: 1.0+ MB\n"
     ]
    }
   ],
   "source": [
    "df_ob = df.select_dtypes(include = ['O'])\n",
    "df_ob.info()"
   ]
  },
  {
   "cell_type": "code",
   "execution_count": 166,
   "id": "2a2f99b3",
   "metadata": {
    "scrolled": false
   },
   "outputs": [
    {
     "data": {
      "image/png": "[encoded data removed]",
      "text/plain": [
       "<Figure size 432x288 with 1 Axes>"
      ]
     },
     "metadata": {
      "needs_background": "light"
     },
     "output_type": "display_data"
    },
    {
     "data": {
      "image/png": "[encoded data removed]",
      "text/plain": [
       "<Figure size 432x288 with 1 Axes>"
      ]
     },
     "metadata": {
      "needs_background": "light"
     },
     "output_type": "display_data"
    },
    {
     "data": {
      "image/png": "[encoded data removed]",
      "text/plain": [
       "<Figure size 432x288 with 1 Axes>"
      ]
     },
     "metadata": {
      "needs_background": "light"
     },
     "output_type": "display_data"
    },
    {
     "data": {
      "image/png": "[encoded data removed]",
      "text/plain": [
       "<Figure size 432x288 with 1 Axes>"
      ]
     },
     "metadata": {
      "needs_background": "light"
     },
     "output_type": "display_data"
    },
    {
     "data": {
      "image/png": "[encoded data removed]",
      "text/plain": [
       "<Figure size 432x288 with 1 Axes>"
      ]
     },
     "metadata": {
      "needs_background": "light"
     },
     "output_type": "display_data"
    },
    {
     "data": {
      "image/png": "[encoded data removed]",
      "text/plain": [
       "<Figure size 432x288 with 1 Axes>"
      ]
     },
     "metadata": {
      "needs_background": "light"
     },
     "output_type": "display_data"
    },
    {
     "data": {
      "image/png": "[encoded data removed]",
      "text/plain": [
       "<Figure size 432x288 with 1 Axes>"
      ]
     },
     "metadata": {
      "needs_background": "light"
     },
     "output_type": "display_data"
    },
    {
     "data": {
      "image/png": "[encoded data removed]",
      "text/plain": [
       "<Figure size 432x288 with 1 Axes>"
      ]
     },
     "metadata": {
      "needs_background": "light"
     },
     "output_type": "display_data"
    }
   ],
   "source": [
    "for i in df_ob:\n",
    "    sns.countplot(x = df[i],hue='Value', data = df)\n",
    "    plt.title(i)\n",
    "    plt.xticks(rotation=90)\n",
    "    plt.show()"
   ]
  },
  {
   "cell_type": "code",
   "execution_count": 167,
   "id": "6f9ed8eb",
   "metadata": {},
   "outputs": [
    {
     "data": {
      "text/plain": [
       "CRAWL        0.661134\n",
       "FULL BSMT    0.156410\n",
       "PT BSMT      0.126033\n",
       "SLAB         0.054389\n",
       "PIERS        0.001903\n",
       "TYPICAL      0.000131\n",
       "Name: Foundation Type, dtype: float64"
      ]
     },
     "execution_count": 167,
     "metadata": {},
     "output_type": "execute_result"
    }
   ],
   "source": [
    "df[\"Foundation Type\"].value_counts(normalize=True)"
   ]
  },
  {
   "cell_type": "code",
   "execution_count": 168,
   "id": "364dc292",
   "metadata": {},
   "outputs": [
    {
     "data": {
      "text/plain": [
       "CRAWL        0.661134\n",
       "FULL BSMT    0.156410\n",
       "PT BSMT      0.126033\n",
       "SLAB         0.054389\n",
       "Other        0.002034\n",
       "Name: Foundation Type, dtype: float64"
      ]
     },
     "execution_count": 168,
     "metadata": {},
     "output_type": "execute_result"
    }
   ],
   "source": [
    "df[\"Foundation Type\"] = df[\"Foundation Type\"].replace(['PIERS','TYPICAL'], 'Other')\n",
    "df[\"Foundation Type\"].value_counts(normalize=True)"
   ]
  },
  {
   "cell_type": "code",
   "execution_count": 169,
   "id": "6b418a9c",
   "metadata": {},
   "outputs": [
    {
     "data": {
      "text/plain": [
       "BRICK          0.503674\n",
       "FRAME          0.403359\n",
       "BRICK/FRAME    0.065149\n",
       "STONE          0.015090\n",
       "CONC BLK       0.005249\n",
       "STUCCO         0.004002\n",
       "FRAME/STONE    0.002690\n",
       "LOG            0.000459\n",
       "METAL          0.000328\n",
       "Name: Exterior Wall, dtype: float64"
      ]
     },
     "execution_count": 169,
     "metadata": {},
     "output_type": "execute_result"
    }
   ],
   "source": [
    "df[\"Exterior Wall\"].value_counts(normalize=True)"
   ]
  },
  {
   "cell_type": "code",
   "execution_count": 170,
   "id": "2ea39182",
   "metadata": {},
   "outputs": [
    {
     "data": {
      "text/plain": [
       "BRICK          0.503674\n",
       "FRAME          0.403359\n",
       "BRICK/FRAME    0.065149\n",
       "Other          0.027818\n",
       "Name: Exterior Wall, dtype: float64"
      ]
     },
     "execution_count": 170,
     "metadata": {},
     "output_type": "execute_result"
    }
   ],
   "source": [
    "df[\"Exterior Wall\"] = df[\"Exterior Wall\"].replace(['STONE','STUCCO','CONC BLK','FRAME/STONE','LOG','METAL'], 'Other')\n",
    "df[\"Exterior Wall\"].value_counts(normalize=True)"
   ]
  },
  {
   "cell_type": "code",
   "execution_count": 171,
   "id": "343d2f76",
   "metadata": {},
   "outputs": [
    {
     "name": "stdout",
     "output_type": "stream",
     "text": [
      "<class 'pandas.core.frame.DataFrame'>\n",
      "Int64Index: 15242 entries, 0 to 22650\n",
      "Data columns (total 19 columns):\n",
      " #   Column           Non-Null Count  Dtype  \n",
      "---  ------           --------------  -----  \n",
      " 0   Land Use         15242 non-null  object \n",
      " 1   Sold As Vacant   15242 non-null  object \n",
      " 2   Parcels          15242 non-null  object \n",
      " 3   Acreage          15242 non-null  float64\n",
      " 4   Tax District     15242 non-null  object \n",
      " 5   Land Value       15242 non-null  int64  \n",
      " 6   Building Value   15242 non-null  int64  \n",
      " 7   Finished Area    15241 non-null  float64\n",
      " 8   Foundation Type  15242 non-null  object \n",
      " 9   Exterior Wall    15242 non-null  object \n",
      " 10  Grade            15242 non-null  object \n",
      " 11  Bedrooms         15242 non-null  float64\n",
      " 12  Full Bath        15242 non-null  float64\n",
      " 13  Half Bath        15171 non-null  float64\n",
      " 14  Value            15242 non-null  object \n",
      " 15  year             15242 non-null  int64  \n",
      " 16  month            15242 non-null  int64  \n",
      " 17  date             15242 non-null  int64  \n",
      " 18  Property_Age     15242 non-null  int64  \n",
      "dtypes: float64(5), int64(6), object(8)\n",
      "memory usage: 2.8+ MB\n"
     ]
    }
   ],
   "source": [
    "df.info()"
   ]
  },
  {
   "cell_type": "code",
   "execution_count": 172,
   "id": "c3444a2a",
   "metadata": {},
   "outputs": [],
   "source": [
    "df = df.drop(['Land Use','Sold As Vacant','Parcels','Tax District'], axis=1)"
   ]
  },
  {
   "cell_type": "code",
   "execution_count": 173,
   "id": "943bb370",
   "metadata": {},
   "outputs": [
    {
     "data": {
      "text/plain": [
       "Acreage             0\n",
       "Land Value          0\n",
       "Building Value      0\n",
       "Finished Area       1\n",
       "Foundation Type     0\n",
       "Exterior Wall       0\n",
       "Grade               0\n",
       "Bedrooms            0\n",
       "Full Bath           0\n",
       "Half Bath          71\n",
       "Value               0\n",
       "year                0\n",
       "month               0\n",
       "date                0\n",
       "Property_Age        0\n",
       "dtype: int64"
      ]
     },
     "execution_count": 173,
     "metadata": {},
     "output_type": "execute_result"
    }
   ],
   "source": [
    "df.isnull().sum()"
   ]
  },
  {
   "cell_type": "code",
   "execution_count": 174,
   "id": "ffafdc1f",
   "metadata": {},
   "outputs": [
    {
     "data": {
      "text/plain": [
       "(15242, 15)"
      ]
     },
     "execution_count": 174,
     "metadata": {},
     "output_type": "execute_result"
    }
   ],
   "source": [
    "df.shape"
   ]
  },
  {
   "cell_type": "code",
   "execution_count": 175,
   "id": "c6e1f76d",
   "metadata": {},
   "outputs": [
    {
     "data": {
      "text/plain": [
       "Acreage            0\n",
       "Land Value         0\n",
       "Building Value     0\n",
       "Finished Area      0\n",
       "Foundation Type    0\n",
       "Exterior Wall      0\n",
       "Grade              0\n",
       "Bedrooms           0\n",
       "Full Bath          0\n",
       "Half Bath          0\n",
       "Value              0\n",
       "year               0\n",
       "month              0\n",
       "date               0\n",
       "Property_Age       0\n",
       "dtype: int64"
      ]
     },
     "execution_count": 175,
     "metadata": {},
     "output_type": "execute_result"
    }
   ],
   "source": [
    "df=df.dropna()\n",
    "df.isnull().sum()"
   ]
  },
  {
   "cell_type": "code",
   "execution_count": 176,
   "id": "d17d8a3f",
   "metadata": {},
   "outputs": [
    {
     "data": {
      "text/plain": [
       "(15170, 15)"
      ]
     },
     "execution_count": 176,
     "metadata": {},
     "output_type": "execute_result"
    }
   ],
   "source": [
    "df.shape"
   ]
  },
  {
   "cell_type": "code",
   "execution_count": 177,
   "id": "f4d0c925",
   "metadata": {},
   "outputs": [
    {
     "data": {
      "text/html": [
       "<div>\n",
       "<style scoped>\n",
       "    .dataframe tbody tr th:only-of-type {\n",
       "        vertical-align: middle;\n",
       "    }\n",
       "\n",
       "    .dataframe tbody tr th {\n",
       "        vertical-align: top;\n",
       "    }\n",
       "\n",
       "    .dataframe thead th {\n",
       "        text-align: right;\n",
       "    }\n",
       "</style>\n",
       "<table border=\"1\" class=\"dataframe\">\n",
       "  <thead>\n",
       "    <tr style=\"text-align: right;\">\n",
       "      <th></th>\n",
       "      <th>Acreage</th>\n",
       "      <th>Land Value</th>\n",
       "      <th>Building Value</th>\n",
       "      <th>Finished Area</th>\n",
       "      <th>Foundation Type</th>\n",
       "      <th>Exterior Wall</th>\n",
       "      <th>Grade</th>\n",
       "      <th>Bedrooms</th>\n",
       "      <th>Full Bath</th>\n",
       "      <th>Half Bath</th>\n",
       "      <th>Value</th>\n",
       "      <th>year</th>\n",
       "      <th>month</th>\n",
       "      <th>date</th>\n",
       "      <th>Property_Age</th>\n",
       "    </tr>\n",
       "  </thead>\n",
       "  <tbody>\n",
       "    <tr>\n",
       "      <th>0</th>\n",
       "      <td>0.17</td>\n",
       "      <td>32000</td>\n",
       "      <td>134400</td>\n",
       "      <td>1149.00000</td>\n",
       "      <td>PT BSMT</td>\n",
       "      <td>BRICK</td>\n",
       "      <td>C</td>\n",
       "      <td>2.0</td>\n",
       "      <td>1.0</td>\n",
       "      <td>0.0</td>\n",
       "      <td>Over</td>\n",
       "      <td>2013</td>\n",
       "      <td>1</td>\n",
       "      <td>11</td>\n",
       "      <td>72</td>\n",
       "    </tr>\n",
       "    <tr>\n",
       "      <th>1</th>\n",
       "      <td>0.11</td>\n",
       "      <td>34000</td>\n",
       "      <td>157800</td>\n",
       "      <td>2090.82495</td>\n",
       "      <td>SLAB</td>\n",
       "      <td>BRICK/FRAME</td>\n",
       "      <td>C</td>\n",
       "      <td>3.0</td>\n",
       "      <td>2.0</td>\n",
       "      <td>1.0</td>\n",
       "      <td>Over</td>\n",
       "      <td>2013</td>\n",
       "      <td>1</td>\n",
       "      <td>18</td>\n",
       "      <td>13</td>\n",
       "    </tr>\n",
       "    <tr>\n",
       "      <th>2</th>\n",
       "      <td>0.17</td>\n",
       "      <td>25000</td>\n",
       "      <td>243700</td>\n",
       "      <td>2145.60001</td>\n",
       "      <td>FULL BSMT</td>\n",
       "      <td>BRICK/FRAME</td>\n",
       "      <td>B</td>\n",
       "      <td>4.0</td>\n",
       "      <td>2.0</td>\n",
       "      <td>0.0</td>\n",
       "      <td>Under</td>\n",
       "      <td>2013</td>\n",
       "      <td>1</td>\n",
       "      <td>18</td>\n",
       "      <td>65</td>\n",
       "    </tr>\n",
       "    <tr>\n",
       "      <th>3</th>\n",
       "      <td>0.34</td>\n",
       "      <td>25000</td>\n",
       "      <td>138100</td>\n",
       "      <td>1969.00000</td>\n",
       "      <td>CRAWL</td>\n",
       "      <td>FRAME</td>\n",
       "      <td>C</td>\n",
       "      <td>2.0</td>\n",
       "      <td>1.0</td>\n",
       "      <td>0.0</td>\n",
       "      <td>Under</td>\n",
       "      <td>2013</td>\n",
       "      <td>1</td>\n",
       "      <td>23</td>\n",
       "      <td>103</td>\n",
       "    </tr>\n",
       "    <tr>\n",
       "      <th>4</th>\n",
       "      <td>0.17</td>\n",
       "      <td>25000</td>\n",
       "      <td>86100</td>\n",
       "      <td>1037.00000</td>\n",
       "      <td>CRAWL</td>\n",
       "      <td>FRAME</td>\n",
       "      <td>C</td>\n",
       "      <td>2.0</td>\n",
       "      <td>1.0</td>\n",
       "      <td>0.0</td>\n",
       "      <td>Under</td>\n",
       "      <td>2013</td>\n",
       "      <td>1</td>\n",
       "      <td>4</td>\n",
       "      <td>68</td>\n",
       "    </tr>\n",
       "    <tr>\n",
       "      <th>...</th>\n",
       "      <td>...</td>\n",
       "      <td>...</td>\n",
       "      <td>...</td>\n",
       "      <td>...</td>\n",
       "      <td>...</td>\n",
       "      <td>...</td>\n",
       "      <td>...</td>\n",
       "      <td>...</td>\n",
       "      <td>...</td>\n",
       "      <td>...</td>\n",
       "      <td>...</td>\n",
       "      <td>...</td>\n",
       "      <td>...</td>\n",
       "      <td>...</td>\n",
       "      <td>...</td>\n",
       "    </tr>\n",
       "    <tr>\n",
       "      <th>22632</th>\n",
       "      <td>0.25</td>\n",
       "      <td>24000</td>\n",
       "      <td>104700</td>\n",
       "      <td>1911.00000</td>\n",
       "      <td>CRAWL</td>\n",
       "      <td>BRICK</td>\n",
       "      <td>C</td>\n",
       "      <td>3.0</td>\n",
       "      <td>2.0</td>\n",
       "      <td>0.0</td>\n",
       "      <td>Under</td>\n",
       "      <td>2016</td>\n",
       "      <td>10</td>\n",
       "      <td>28</td>\n",
       "      <td>44</td>\n",
       "    </tr>\n",
       "    <tr>\n",
       "      <th>22634</th>\n",
       "      <td>0.25</td>\n",
       "      <td>22500</td>\n",
       "      <td>107300</td>\n",
       "      <td>1888.00000</td>\n",
       "      <td>CRAWL</td>\n",
       "      <td>FRAME</td>\n",
       "      <td>C</td>\n",
       "      <td>3.0</td>\n",
       "      <td>3.0</td>\n",
       "      <td>0.0</td>\n",
       "      <td>Over</td>\n",
       "      <td>2016</td>\n",
       "      <td>10</td>\n",
       "      <td>12</td>\n",
       "      <td>29</td>\n",
       "    </tr>\n",
       "    <tr>\n",
       "      <th>22635</th>\n",
       "      <td>0.24</td>\n",
       "      <td>22500</td>\n",
       "      <td>97700</td>\n",
       "      <td>1912.00000</td>\n",
       "      <td>CRAWL</td>\n",
       "      <td>FRAME</td>\n",
       "      <td>C</td>\n",
       "      <td>3.0</td>\n",
       "      <td>3.0</td>\n",
       "      <td>0.0</td>\n",
       "      <td>Over</td>\n",
       "      <td>2016</td>\n",
       "      <td>10</td>\n",
       "      <td>3</td>\n",
       "      <td>27</td>\n",
       "    </tr>\n",
       "    <tr>\n",
       "      <th>22649</th>\n",
       "      <td>0.15</td>\n",
       "      <td>40000</td>\n",
       "      <td>204100</td>\n",
       "      <td>1637.00000</td>\n",
       "      <td>CRAWL</td>\n",
       "      <td>FRAME</td>\n",
       "      <td>B</td>\n",
       "      <td>3.0</td>\n",
       "      <td>2.0</td>\n",
       "      <td>1.0</td>\n",
       "      <td>Over</td>\n",
       "      <td>2016</td>\n",
       "      <td>10</td>\n",
       "      <td>28</td>\n",
       "      <td>12</td>\n",
       "    </tr>\n",
       "    <tr>\n",
       "      <th>22650</th>\n",
       "      <td>0.19</td>\n",
       "      <td>40000</td>\n",
       "      <td>295900</td>\n",
       "      <td>2478.00000</td>\n",
       "      <td>CRAWL</td>\n",
       "      <td>FRAME</td>\n",
       "      <td>B</td>\n",
       "      <td>4.0</td>\n",
       "      <td>3.0</td>\n",
       "      <td>1.0</td>\n",
       "      <td>Over</td>\n",
       "      <td>2016</td>\n",
       "      <td>10</td>\n",
       "      <td>26</td>\n",
       "      <td>11</td>\n",
       "    </tr>\n",
       "  </tbody>\n",
       "</table>\n",
       "<p>15170 rows × 15 columns</p>\n",
       "</div>"
      ],
      "text/plain": [
       "       Acreage  Land Value  Building Value  Finished Area Foundation Type  \\\n",
       "0         0.17       32000          134400     1149.00000         PT BSMT   \n",
       "1         0.11       34000          157800     2090.82495            SLAB   \n",
       "2         0.17       25000          243700     2145.60001       FULL BSMT   \n",
       "3         0.34       25000          138100     1969.00000           CRAWL   \n",
       "4         0.17       25000           86100     1037.00000           CRAWL   \n",
       "...        ...         ...             ...            ...             ...   \n",
       "22632     0.25       24000          104700     1911.00000           CRAWL   \n",
       "22634     0.25       22500          107300     1888.00000           CRAWL   \n",
       "22635     0.24       22500           97700     1912.00000           CRAWL   \n",
       "22649     0.15       40000          204100     1637.00000           CRAWL   \n",
       "22650     0.19       40000          295900     2478.00000           CRAWL   \n",
       "\n",
       "      Exterior Wall Grade  Bedrooms  Full Bath  Half Bath  Value  year  month  \\\n",
       "0             BRICK  C          2.0        1.0        0.0   Over  2013      1   \n",
       "1       BRICK/FRAME  C          3.0        2.0        1.0   Over  2013      1   \n",
       "2       BRICK/FRAME  B          4.0        2.0        0.0  Under  2013      1   \n",
       "3             FRAME  C          2.0        1.0        0.0  Under  2013      1   \n",
       "4             FRAME  C          2.0        1.0        0.0  Under  2013      1   \n",
       "...             ...   ...       ...        ...        ...    ...   ...    ...   \n",
       "22632         BRICK  C          3.0        2.0        0.0  Under  2016     10   \n",
       "22634         FRAME  C          3.0        3.0        0.0   Over  2016     10   \n",
       "22635         FRAME  C          3.0        3.0        0.0   Over  2016     10   \n",
       "22649         FRAME  B          3.0        2.0        1.0   Over  2016     10   \n",
       "22650         FRAME  B          4.0        3.0        1.0   Over  2016     10   \n",
       "\n",
       "       date  Property_Age  \n",
       "0        11            72  \n",
       "1        18            13  \n",
       "2        18            65  \n",
       "3        23           103  \n",
       "4         4            68  \n",
       "...     ...           ...  \n",
       "22632    28            44  \n",
       "22634    12            29  \n",
       "22635     3            27  \n",
       "22649    28            12  \n",
       "22650    26            11  \n",
       "\n",
       "[15170 rows x 15 columns]"
      ]
     },
     "execution_count": 177,
     "metadata": {},
     "output_type": "execute_result"
    }
   ],
   "source": [
    "df"
   ]
  },
  {
   "cell_type": "code",
   "execution_count": 178,
   "id": "4203a66e",
   "metadata": {},
   "outputs": [],
   "source": [
    "#df = pd.get_dummies(df, drop_first = True, columns=['Land Use','Sold As Vacant','Parcels','Tax District','Foundation Type','Exterior Wall','Value'])\n",
    "df = pd.get_dummies(df, drop_first = True, columns=['Grade','Foundation Type','Exterior Wall','Value'])\n"
   ]
  },
  {
   "cell_type": "code",
   "execution_count": 179,
   "id": "a6ad2ca9",
   "metadata": {},
   "outputs": [
    {
     "data": {
      "text/html": [
       "<div>\n",
       "<style scoped>\n",
       "    .dataframe tbody tr th:only-of-type {\n",
       "        vertical-align: middle;\n",
       "    }\n",
       "\n",
       "    .dataframe tbody tr th {\n",
       "        vertical-align: top;\n",
       "    }\n",
       "\n",
       "    .dataframe thead th {\n",
       "        text-align: right;\n",
       "    }\n",
       "</style>\n",
       "<table border=\"1\" class=\"dataframe\">\n",
       "  <thead>\n",
       "    <tr style=\"text-align: right;\">\n",
       "      <th></th>\n",
       "      <th>Acreage</th>\n",
       "      <th>Land Value</th>\n",
       "      <th>Building Value</th>\n",
       "      <th>Finished Area</th>\n",
       "      <th>Bedrooms</th>\n",
       "      <th>Full Bath</th>\n",
       "      <th>Half Bath</th>\n",
       "      <th>year</th>\n",
       "      <th>month</th>\n",
       "      <th>date</th>\n",
       "      <th>...</th>\n",
       "      <th>Grade_OFB</th>\n",
       "      <th>Grade_SSC</th>\n",
       "      <th>Foundation Type_FULL BSMT</th>\n",
       "      <th>Foundation Type_Other</th>\n",
       "      <th>Foundation Type_PT BSMT</th>\n",
       "      <th>Foundation Type_SLAB</th>\n",
       "      <th>Exterior Wall_BRICK/FRAME</th>\n",
       "      <th>Exterior Wall_FRAME</th>\n",
       "      <th>Exterior Wall_Other</th>\n",
       "      <th>Value_Under</th>\n",
       "    </tr>\n",
       "  </thead>\n",
       "  <tbody>\n",
       "    <tr>\n",
       "      <th>0</th>\n",
       "      <td>0.17</td>\n",
       "      <td>32000</td>\n",
       "      <td>134400</td>\n",
       "      <td>1149.00000</td>\n",
       "      <td>2.0</td>\n",
       "      <td>1.0</td>\n",
       "      <td>0.0</td>\n",
       "      <td>2013</td>\n",
       "      <td>1</td>\n",
       "      <td>11</td>\n",
       "      <td>...</td>\n",
       "      <td>0</td>\n",
       "      <td>0</td>\n",
       "      <td>0</td>\n",
       "      <td>0</td>\n",
       "      <td>1</td>\n",
       "      <td>0</td>\n",
       "      <td>0</td>\n",
       "      <td>0</td>\n",
       "      <td>0</td>\n",
       "      <td>0</td>\n",
       "    </tr>\n",
       "    <tr>\n",
       "      <th>1</th>\n",
       "      <td>0.11</td>\n",
       "      <td>34000</td>\n",
       "      <td>157800</td>\n",
       "      <td>2090.82495</td>\n",
       "      <td>3.0</td>\n",
       "      <td>2.0</td>\n",
       "      <td>1.0</td>\n",
       "      <td>2013</td>\n",
       "      <td>1</td>\n",
       "      <td>18</td>\n",
       "      <td>...</td>\n",
       "      <td>0</td>\n",
       "      <td>0</td>\n",
       "      <td>0</td>\n",
       "      <td>0</td>\n",
       "      <td>0</td>\n",
       "      <td>1</td>\n",
       "      <td>1</td>\n",
       "      <td>0</td>\n",
       "      <td>0</td>\n",
       "      <td>0</td>\n",
       "    </tr>\n",
       "    <tr>\n",
       "      <th>2</th>\n",
       "      <td>0.17</td>\n",
       "      <td>25000</td>\n",
       "      <td>243700</td>\n",
       "      <td>2145.60001</td>\n",
       "      <td>4.0</td>\n",
       "      <td>2.0</td>\n",
       "      <td>0.0</td>\n",
       "      <td>2013</td>\n",
       "      <td>1</td>\n",
       "      <td>18</td>\n",
       "      <td>...</td>\n",
       "      <td>0</td>\n",
       "      <td>0</td>\n",
       "      <td>1</td>\n",
       "      <td>0</td>\n",
       "      <td>0</td>\n",
       "      <td>0</td>\n",
       "      <td>1</td>\n",
       "      <td>0</td>\n",
       "      <td>0</td>\n",
       "      <td>1</td>\n",
       "    </tr>\n",
       "    <tr>\n",
       "      <th>3</th>\n",
       "      <td>0.34</td>\n",
       "      <td>25000</td>\n",
       "      <td>138100</td>\n",
       "      <td>1969.00000</td>\n",
       "      <td>2.0</td>\n",
       "      <td>1.0</td>\n",
       "      <td>0.0</td>\n",
       "      <td>2013</td>\n",
       "      <td>1</td>\n",
       "      <td>23</td>\n",
       "      <td>...</td>\n",
       "      <td>0</td>\n",
       "      <td>0</td>\n",
       "      <td>0</td>\n",
       "      <td>0</td>\n",
       "      <td>0</td>\n",
       "      <td>0</td>\n",
       "      <td>0</td>\n",
       "      <td>1</td>\n",
       "      <td>0</td>\n",
       "      <td>1</td>\n",
       "    </tr>\n",
       "    <tr>\n",
       "      <th>4</th>\n",
       "      <td>0.17</td>\n",
       "      <td>25000</td>\n",
       "      <td>86100</td>\n",
       "      <td>1037.00000</td>\n",
       "      <td>2.0</td>\n",
       "      <td>1.0</td>\n",
       "      <td>0.0</td>\n",
       "      <td>2013</td>\n",
       "      <td>1</td>\n",
       "      <td>4</td>\n",
       "      <td>...</td>\n",
       "      <td>0</td>\n",
       "      <td>0</td>\n",
       "      <td>0</td>\n",
       "      <td>0</td>\n",
       "      <td>0</td>\n",
       "      <td>0</td>\n",
       "      <td>0</td>\n",
       "      <td>1</td>\n",
       "      <td>0</td>\n",
       "      <td>1</td>\n",
       "    </tr>\n",
       "    <tr>\n",
       "      <th>...</th>\n",
       "      <td>...</td>\n",
       "      <td>...</td>\n",
       "      <td>...</td>\n",
       "      <td>...</td>\n",
       "      <td>...</td>\n",
       "      <td>...</td>\n",
       "      <td>...</td>\n",
       "      <td>...</td>\n",
       "      <td>...</td>\n",
       "      <td>...</td>\n",
       "      <td>...</td>\n",
       "      <td>...</td>\n",
       "      <td>...</td>\n",
       "      <td>...</td>\n",
       "      <td>...</td>\n",
       "      <td>...</td>\n",
       "      <td>...</td>\n",
       "      <td>...</td>\n",
       "      <td>...</td>\n",
       "      <td>...</td>\n",
       "      <td>...</td>\n",
       "    </tr>\n",
       "    <tr>\n",
       "      <th>22632</th>\n",
       "      <td>0.25</td>\n",
       "      <td>24000</td>\n",
       "      <td>104700</td>\n",
       "      <td>1911.00000</td>\n",
       "      <td>3.0</td>\n",
       "      <td>2.0</td>\n",
       "      <td>0.0</td>\n",
       "      <td>2016</td>\n",
       "      <td>10</td>\n",
       "      <td>28</td>\n",
       "      <td>...</td>\n",
       "      <td>0</td>\n",
       "      <td>0</td>\n",
       "      <td>0</td>\n",
       "      <td>0</td>\n",
       "      <td>0</td>\n",
       "      <td>0</td>\n",
       "      <td>0</td>\n",
       "      <td>0</td>\n",
       "      <td>0</td>\n",
       "      <td>1</td>\n",
       "    </tr>\n",
       "    <tr>\n",
       "      <th>22634</th>\n",
       "      <td>0.25</td>\n",
       "      <td>22500</td>\n",
       "      <td>107300</td>\n",
       "      <td>1888.00000</td>\n",
       "      <td>3.0</td>\n",
       "      <td>3.0</td>\n",
       "      <td>0.0</td>\n",
       "      <td>2016</td>\n",
       "      <td>10</td>\n",
       "      <td>12</td>\n",
       "      <td>...</td>\n",
       "      <td>0</td>\n",
       "      <td>0</td>\n",
       "      <td>0</td>\n",
       "      <td>0</td>\n",
       "      <td>0</td>\n",
       "      <td>0</td>\n",
       "      <td>0</td>\n",
       "      <td>1</td>\n",
       "      <td>0</td>\n",
       "      <td>0</td>\n",
       "    </tr>\n",
       "    <tr>\n",
       "      <th>22635</th>\n",
       "      <td>0.24</td>\n",
       "      <td>22500</td>\n",
       "      <td>97700</td>\n",
       "      <td>1912.00000</td>\n",
       "      <td>3.0</td>\n",
       "      <td>3.0</td>\n",
       "      <td>0.0</td>\n",
       "      <td>2016</td>\n",
       "      <td>10</td>\n",
       "      <td>3</td>\n",
       "      <td>...</td>\n",
       "      <td>0</td>\n",
       "      <td>0</td>\n",
       "      <td>0</td>\n",
       "      <td>0</td>\n",
       "      <td>0</td>\n",
       "      <td>0</td>\n",
       "      <td>0</td>\n",
       "      <td>1</td>\n",
       "      <td>0</td>\n",
       "      <td>0</td>\n",
       "    </tr>\n",
       "    <tr>\n",
       "      <th>22649</th>\n",
       "      <td>0.15</td>\n",
       "      <td>40000</td>\n",
       "      <td>204100</td>\n",
       "      <td>1637.00000</td>\n",
       "      <td>3.0</td>\n",
       "      <td>2.0</td>\n",
       "      <td>1.0</td>\n",
       "      <td>2016</td>\n",
       "      <td>10</td>\n",
       "      <td>28</td>\n",
       "      <td>...</td>\n",
       "      <td>0</td>\n",
       "      <td>0</td>\n",
       "      <td>0</td>\n",
       "      <td>0</td>\n",
       "      <td>0</td>\n",
       "      <td>0</td>\n",
       "      <td>0</td>\n",
       "      <td>1</td>\n",
       "      <td>0</td>\n",
       "      <td>0</td>\n",
       "    </tr>\n",
       "    <tr>\n",
       "      <th>22650</th>\n",
       "      <td>0.19</td>\n",
       "      <td>40000</td>\n",
       "      <td>295900</td>\n",
       "      <td>2478.00000</td>\n",
       "      <td>4.0</td>\n",
       "      <td>3.0</td>\n",
       "      <td>1.0</td>\n",
       "      <td>2016</td>\n",
       "      <td>10</td>\n",
       "      <td>26</td>\n",
       "      <td>...</td>\n",
       "      <td>0</td>\n",
       "      <td>0</td>\n",
       "      <td>0</td>\n",
       "      <td>0</td>\n",
       "      <td>0</td>\n",
       "      <td>0</td>\n",
       "      <td>0</td>\n",
       "      <td>1</td>\n",
       "      <td>0</td>\n",
       "      <td>0</td>\n",
       "    </tr>\n",
       "  </tbody>\n",
       "</table>\n",
       "<p>15170 rows × 25 columns</p>\n",
       "</div>"
      ],
      "text/plain": [
       "       Acreage  Land Value  Building Value  Finished Area  Bedrooms  \\\n",
       "0         0.17       32000          134400     1149.00000       2.0   \n",
       "1         0.11       34000          157800     2090.82495       3.0   \n",
       "2         0.17       25000          243700     2145.60001       4.0   \n",
       "3         0.34       25000          138100     1969.00000       2.0   \n",
       "4         0.17       25000           86100     1037.00000       2.0   \n",
       "...        ...         ...             ...            ...       ...   \n",
       "22632     0.25       24000          104700     1911.00000       3.0   \n",
       "22634     0.25       22500          107300     1888.00000       3.0   \n",
       "22635     0.24       22500           97700     1912.00000       3.0   \n",
       "22649     0.15       40000          204100     1637.00000       3.0   \n",
       "22650     0.19       40000          295900     2478.00000       4.0   \n",
       "\n",
       "       Full Bath  Half Bath  year  month  date  ...  Grade_OFB   Grade_SSC   \\\n",
       "0            1.0        0.0  2013      1    11  ...           0           0   \n",
       "1            2.0        1.0  2013      1    18  ...           0           0   \n",
       "2            2.0        0.0  2013      1    18  ...           0           0   \n",
       "3            1.0        0.0  2013      1    23  ...           0           0   \n",
       "4            1.0        0.0  2013      1     4  ...           0           0   \n",
       "...          ...        ...   ...    ...   ...  ...         ...         ...   \n",
       "22632        2.0        0.0  2016     10    28  ...           0           0   \n",
       "22634        3.0        0.0  2016     10    12  ...           0           0   \n",
       "22635        3.0        0.0  2016     10     3  ...           0           0   \n",
       "22649        2.0        1.0  2016     10    28  ...           0           0   \n",
       "22650        3.0        1.0  2016     10    26  ...           0           0   \n",
       "\n",
       "       Foundation Type_FULL BSMT  Foundation Type_Other  \\\n",
       "0                              0                      0   \n",
       "1                              0                      0   \n",
       "2                              1                      0   \n",
       "3                              0                      0   \n",
       "4                              0                      0   \n",
       "...                          ...                    ...   \n",
       "22632                          0                      0   \n",
       "22634                          0                      0   \n",
       "22635                          0                      0   \n",
       "22649                          0                      0   \n",
       "22650                          0                      0   \n",
       "\n",
       "       Foundation Type_PT BSMT  Foundation Type_SLAB  \\\n",
       "0                            1                     0   \n",
       "1                            0                     1   \n",
       "2                            0                     0   \n",
       "3                            0                     0   \n",
       "4                            0                     0   \n",
       "...                        ...                   ...   \n",
       "22632                        0                     0   \n",
       "22634                        0                     0   \n",
       "22635                        0                     0   \n",
       "22649                        0                     0   \n",
       "22650                        0                     0   \n",
       "\n",
       "       Exterior Wall_BRICK/FRAME  Exterior Wall_FRAME  Exterior Wall_Other  \\\n",
       "0                              0                    0                    0   \n",
       "1                              1                    0                    0   \n",
       "2                              1                    0                    0   \n",
       "3                              0                    1                    0   \n",
       "4                              0                    1                    0   \n",
       "...                          ...                  ...                  ...   \n",
       "22632                          0                    0                    0   \n",
       "22634                          0                    1                    0   \n",
       "22635                          0                    1                    0   \n",
       "22649                          0                    1                    0   \n",
       "22650                          0                    1                    0   \n",
       "\n",
       "       Value_Under  \n",
       "0                0  \n",
       "1                0  \n",
       "2                1  \n",
       "3                1  \n",
       "4                1  \n",
       "...            ...  \n",
       "22632            1  \n",
       "22634            0  \n",
       "22635            0  \n",
       "22649            0  \n",
       "22650            0  \n",
       "\n",
       "[15170 rows x 25 columns]"
      ]
     },
     "execution_count": 179,
     "metadata": {},
     "output_type": "execute_result"
    }
   ],
   "source": [
    "df"
   ]
  },
  {
   "cell_type": "code",
   "execution_count": 180,
   "id": "bbddae8c",
   "metadata": {},
   "outputs": [
    {
     "data": {
      "text/plain": [
       "[]"
      ]
     },
     "execution_count": 180,
     "metadata": {},
     "output_type": "execute_result"
    },
    {
     "data": {
      "image/png": "[encoded data removed]",
      "text/plain": [
       "<Figure size 1440x1080 with 2 Axes>"
      ]
     },
     "metadata": {
      "needs_background": "light"
     },
     "output_type": "display_data"
    }
   ],
   "source": [
    "plt.figure(figsize=(20,15))\n",
    "sns.heatmap(df.corr(),annot=True)\n",
    "plt.plot()"
   ]
  },
  {
   "cell_type": "code",
   "execution_count": 181,
   "id": "4f4421be",
   "metadata": {},
   "outputs": [
    {
     "data": {
      "text/plain": [
       "year                        -0.312059\n",
       "Land Value                  -0.068938\n",
       "Grade_C                     -0.054385\n",
       "month                       -0.046704\n",
       "date                        -0.045426\n",
       "Property_Age                -0.032549\n",
       "Exterior Wall_BRICK/FRAME   -0.009986\n",
       "Foundation Type_Other       -0.007470\n",
       "Acreage                     -0.005429\n",
       "Foundation Type_PT BSMT     -0.005151\n",
       "Foundation Type_SLAB        -0.005140\n",
       "Grade_OFB                   -0.004448\n",
       "Exterior Wall_Other         -0.003683\n",
       "Foundation Type_FULL BSMT   -0.003031\n",
       "Finished Area                0.008482\n",
       "Bedrooms                     0.013029\n",
       "Half Bath                    0.014511\n",
       "Grade_SSC                    0.014820\n",
       "Full Bath                    0.021965\n",
       "Exterior Wall_FRAME          0.024944\n",
       "Grade_D                      0.031276\n",
       "Grade_B                      0.031986\n",
       "Grade_E                      0.035226\n",
       "Building Value               0.035443\n",
       "Value_Under                  1.000000\n",
       "Name: Value_Under, dtype: float64"
      ]
     },
     "execution_count": 181,
     "metadata": {},
     "output_type": "execute_result"
    }
   ],
   "source": [
    "df.corr()['Value_Under'].sort_values()"
   ]
  },
  {
   "cell_type": "markdown",
   "id": "43042908",
   "metadata": {},
   "source": [
    "# Creating Data Models"
   ]
  },
  {
   "cell_type": "code",
   "execution_count": 183,
   "id": "9a82a40c",
   "metadata": {},
   "outputs": [],
   "source": [
    "x=df.drop(['Value_Under'],axis=1)\n",
    "y=df[['Value_Under']]"
   ]
  },
  {
   "cell_type": "code",
   "execution_count": 184,
   "id": "e41074ab",
   "metadata": {},
   "outputs": [],
   "source": [
    "from sklearn.model_selection import train_test_split\n",
    "x_train_res, x_test, y_train_res, y_test = train_test_split(x, y, test_size = 0.2, stratify=y ,random_state = 1)"
   ]
  },
  {
   "cell_type": "markdown",
   "id": "6e85311d",
   "metadata": {},
   "source": [
    "# Part 2: Logistic Regression"
   ]
  },
  {
   "cell_type": "code",
   "execution_count": 189,
   "id": "d890c02b",
   "metadata": {
    "scrolled": true
   },
   "outputs": [
    {
     "name": "stdout",
     "output_type": "stream",
     "text": [
      "Accuracy of logistic regression model : 0.77\n"
     ]
    },
    {
     "name": "stderr",
     "output_type": "stream",
     "text": [
      "/Users/vaibhavarora/opt/anaconda3/lib/python3.9/site-packages/sklearn/utils/validation.py:1111: DataConversionWarning: A column-vector y was passed when a 1d array was expected. Please change the shape of y to (n_samples, ), for example using ravel().\n",
      "  y = column_or_1d(y, warn=True)\n"
     ]
    }
   ],
   "source": [
    "from sklearn import metrics\n",
    "import sklearn.linear_model as sk\n",
    "from sklearn.linear_model import LogisticRegression\n",
    "logreg = LogisticRegression(solver = \"lbfgs\")\n",
    "logreg.fit(x_train_res, y_train_res)\n",
    "\n",
    "y_pred = logreg.predict(x_test)\n",
    "print('Accuracy of logistic regression model : {:.2f}'.format(logreg.score(x_test, y_test)))"
   ]
  },
  {
   "cell_type": "code",
   "execution_count": 190,
   "id": "a4ec3b22",
   "metadata": {},
   "outputs": [
    {
     "name": "stdout",
     "output_type": "stream",
     "text": [
      "[[2229  105]\n",
      " [ 585  115]]\n"
     ]
    }
   ],
   "source": [
    "from sklearn.metrics import confusion_matrix\n",
    "cm=confusion_matrix(y_test, y_pred)\n",
    "print(cm)"
   ]
  },
  {
   "cell_type": "code",
   "execution_count": 191,
   "id": "2f81ad41",
   "metadata": {},
   "outputs": [
    {
     "name": "stdout",
     "output_type": "stream",
     "text": [
      "              precision    recall  f1-score   support\n",
      "\n",
      "           0       0.79      0.96      0.87      2334\n",
      "           1       0.52      0.16      0.25       700\n",
      "\n",
      "    accuracy                           0.77      3034\n",
      "   macro avg       0.66      0.56      0.56      3034\n",
      "weighted avg       0.73      0.77      0.72      3034\n",
      "\n"
     ]
    }
   ],
   "source": [
    "from sklearn.metrics import classification_report\n",
    "print(classification_report(y_test, y_pred))"
   ]
  },
  {
   "cell_type": "markdown",
   "id": "70572338",
   "metadata": {},
   "source": [
    "# Part 3:  Decision Tree"
   ]
  },
  {
   "cell_type": "code",
   "execution_count": 192,
   "id": "0f847f77",
   "metadata": {},
   "outputs": [],
   "source": [
    "from sklearn.tree import DecisionTreeClassifier\n",
    "classifier = DecisionTreeClassifier(criterion = 'entropy', random_state = 0)\n",
    "classifier.fit(x_train_res, y_train_res)\n",
    "y_pred2 = classifier.predict(x_test)"
   ]
  },
  {
   "cell_type": "code",
   "execution_count": 193,
   "id": "de45f576",
   "metadata": {},
   "outputs": [
    {
     "name": "stdout",
     "output_type": "stream",
     "text": [
      "[[1912  422]\n",
      " [ 411  289]]\n"
     ]
    },
    {
     "data": {
      "text/plain": [
       "0.7254449571522742"
      ]
     },
     "execution_count": 193,
     "metadata": {},
     "output_type": "execute_result"
    }
   ],
   "source": [
    "from sklearn.metrics import confusion_matrix, accuracy_score\n",
    "cm = confusion_matrix(y_test, y_pred2)\n",
    "print(cm)\n",
    "accuracy_score(y_test, y_pred2)"
   ]
  },
  {
   "cell_type": "code",
   "execution_count": 194,
   "id": "9691aaab",
   "metadata": {},
   "outputs": [
    {
     "name": "stdout",
     "output_type": "stream",
     "text": [
      "              precision    recall  f1-score   support\n",
      "\n",
      "           0       0.82      0.82      0.82      2334\n",
      "           1       0.41      0.41      0.41       700\n",
      "\n",
      "    accuracy                           0.73      3034\n",
      "   macro avg       0.61      0.62      0.62      3034\n",
      "weighted avg       0.73      0.73      0.73      3034\n",
      "\n"
     ]
    }
   ],
   "source": [
    "print(classification_report(y_test, y_pred2))"
   ]
  },
  {
   "cell_type": "markdown",
   "id": "60458b9d",
   "metadata": {},
   "source": [
    "# Part 4: Random Forest"
   ]
  },
  {
   "cell_type": "code",
   "execution_count": 195,
   "id": "86416c71",
   "metadata": {},
   "outputs": [
    {
     "name": "stderr",
     "output_type": "stream",
     "text": [
      "/var/folders/xt/7tj5n_ln5nx9s8tyzzw7dw6r0000gn/T/ipykernel_65856/1811700584.py:3: DataConversionWarning: A column-vector y was passed when a 1d array was expected. Please change the shape of y to (n_samples,), for example using ravel().\n",
      "  classifier.fit(x_train_res, y_train_res)\n"
     ]
    }
   ],
   "source": [
    "from sklearn.ensemble import RandomForestClassifier\n",
    "classifier = RandomForestClassifier(n_estimators = 100, criterion = 'entropy', random_state = 0)\n",
    "classifier.fit(x_train_res, y_train_res)\n",
    "y_pred3 = classifier.predict(x_test)"
   ]
  },
  {
   "cell_type": "code",
   "execution_count": 196,
   "id": "74428179",
   "metadata": {},
   "outputs": [
    {
     "name": "stdout",
     "output_type": "stream",
     "text": [
      "[[2257   77]\n",
      " [ 536  164]]\n"
     ]
    },
    {
     "data": {
      "text/plain": [
       "0.7979564930784443"
      ]
     },
     "execution_count": 196,
     "metadata": {},
     "output_type": "execute_result"
    }
   ],
   "source": [
    "from sklearn.metrics import confusion_matrix, accuracy_score\n",
    "cm = confusion_matrix(y_test, y_pred3)\n",
    "print(cm)\n",
    "accuracy_score(y_test, y_pred3)"
   ]
  },
  {
   "cell_type": "code",
   "execution_count": 197,
   "id": "da578bfc",
   "metadata": {},
   "outputs": [
    {
     "name": "stdout",
     "output_type": "stream",
     "text": [
      "              precision    recall  f1-score   support\n",
      "\n",
      "           0       0.81      0.97      0.88      2334\n",
      "           1       0.68      0.23      0.35       700\n",
      "\n",
      "    accuracy                           0.80      3034\n",
      "   macro avg       0.74      0.60      0.61      3034\n",
      "weighted avg       0.78      0.80      0.76      3034\n",
      "\n"
     ]
    }
   ],
   "source": [
    "print(classification_report(y_test, y_pred3))"
   ]
  },
  {
   "cell_type": "code",
   "execution_count": 198,
   "id": "01a59dad",
   "metadata": {},
   "outputs": [
    {
     "data": {
      "text/plain": [
       "array([1.00526634e-01, 1.03773716e-01, 1.23731194e-01, 1.17988498e-01,\n",
       "       3.08018171e-02, 2.39172932e-02, 1.53315710e-02, 1.08449921e-01,\n",
       "       7.98117611e-02, 9.64364546e-02, 1.25936932e-01, 4.56308792e-03,\n",
       "       7.46157699e-03, 4.58764156e-03, 1.07352377e-03, 1.95837143e-06,\n",
       "       3.57026286e-05, 1.22705073e-02, 4.98527803e-04, 1.07129656e-02,\n",
       "       6.77396092e-03, 7.05749968e-03, 1.38766993e-02, 4.38055538e-03])"
      ]
     },
     "execution_count": 198,
     "metadata": {},
     "output_type": "execute_result"
    }
   ],
   "source": [
    "classifier.feature_importances_"
   ]
  },
  {
   "cell_type": "code",
   "execution_count": 199,
   "id": "fb19336d",
   "metadata": {},
   "outputs": [],
   "source": [
    "feature_importance = pd.DataFrame({'importance': classifier.feature_importances_}, index= x.columns).sort_values('importance')"
   ]
  },
  {
   "cell_type": "code",
   "execution_count": 226,
   "id": "d349c459",
   "metadata": {},
   "outputs": [
    {
     "data": {
      "text/plain": [
       "<AxesSubplot:>"
      ]
     },
     "execution_count": 226,
     "metadata": {},
     "output_type": "execute_result"
    },
    {
     "data": {
      "image/png": "[encoded data removed]",
      "text/plain": [
       "<Figure size 720x360 with 1 Axes>"
      ]
     },
     "metadata": {
      "needs_background": "light"
     },
     "output_type": "display_data"
    }
   ],
   "source": [
    "feature_importance=feature_importance[feature_importance.importance>0.080]\n",
    "feature_importance.plot(kind='barh',figsize=(10,5))"
   ]
  },
  {
   "cell_type": "markdown",
   "id": "e90af2d9",
   "metadata": {},
   "source": [
    "# Part 5: Gradient Boosting"
   ]
  },
  {
   "cell_type": "code",
   "execution_count": 214,
   "id": "b88e858f",
   "metadata": {},
   "outputs": [
    {
     "name": "stderr",
     "output_type": "stream",
     "text": [
      "/Users/vaibhavarora/opt/anaconda3/lib/python3.9/site-packages/sklearn/ensemble/_gb.py:570: DataConversionWarning: A column-vector y was passed when a 1d array was expected. Please change the shape of y to (n_samples, ), for example using ravel().\n",
      "  y = column_or_1d(y, warn=True)\n"
     ]
    }
   ],
   "source": [
    "from sklearn.ensemble import GradientBoostingClassifier\n",
    "clf = GradientBoostingClassifier(n_estimators=100, learning_rate=1.0,max_depth=8, random_state=0,min_samples_leaf = 50,subsample = 0.8).fit(x_train_res, y_train_res)\n",
    "y_pred4 = clf.predict(x_test)"
   ]
  },
  {
   "cell_type": "code",
   "execution_count": 215,
   "id": "ad213912",
   "metadata": {},
   "outputs": [
    {
     "name": "stdout",
     "output_type": "stream",
     "text": [
      "[[2010  324]\n",
      " [ 426  274]]\n"
     ]
    },
    {
     "data": {
      "text/plain": [
       "0.7528015820698748"
      ]
     },
     "execution_count": 215,
     "metadata": {},
     "output_type": "execute_result"
    }
   ],
   "source": [
    "from sklearn.metrics import confusion_matrix, accuracy_score\n",
    "cm = confusion_matrix(y_test, y_pred4)\n",
    "print(cm)\n",
    "accuracy_score(y_test, y_pred4)"
   ]
  },
  {
   "cell_type": "code",
   "execution_count": 216,
   "id": "8f42302c",
   "metadata": {},
   "outputs": [
    {
     "name": "stdout",
     "output_type": "stream",
     "text": [
      "              precision    recall  f1-score   support\n",
      "\n",
      "           0       0.83      0.86      0.84      2334\n",
      "           1       0.46      0.39      0.42       700\n",
      "\n",
      "    accuracy                           0.75      3034\n",
      "   macro avg       0.64      0.63      0.63      3034\n",
      "weighted avg       0.74      0.75      0.75      3034\n",
      "\n"
     ]
    }
   ],
   "source": [
    "print(classification_report(y_test, y_pred4))"
   ]
  },
  {
   "cell_type": "code",
   "execution_count": 217,
   "id": "91f0ca6d",
   "metadata": {},
   "outputs": [],
   "source": [
    "feature_importance2 = pd.DataFrame({'importance': clf.feature_importances_}, index= x.columns).sort_values('importance')"
   ]
  },
  {
   "cell_type": "markdown",
   "id": "067a5120",
   "metadata": {},
   "source": [
    "# Part 6: Benchmarking"
   ]
  },
  {
   "cell_type": "code",
   "execution_count": 218,
   "id": "a35a5511",
   "metadata": {},
   "outputs": [],
   "source": [
    "models = []\n",
    "models.append(('LoRe', LogisticRegression()))\n",
    "models.append(('DeTr', DecisionTreeClassifier()))\n",
    "models.append(('RaFo', RandomForestClassifier(n_estimators=100)))\n",
    "models.append(('GrBo', GradientBoostingClassifier(n_estimators=100)))"
   ]
  },
  {
   "cell_type": "code",
   "execution_count": 230,
   "id": "81d46df5",
   "metadata": {},
   "outputs": [
    {
     "name": "stderr",
     "output_type": "stream",
     "text": [
      "/Users/vaibhavarora/opt/anaconda3/lib/python3.9/site-packages/sklearn/utils/validation.py:1111: DataConversionWarning: A column-vector y was passed when a 1d array was expected. Please change the shape of y to (n_samples, ), for example using ravel().\n",
      "  y = column_or_1d(y, warn=True)\n",
      "/Users/vaibhavarora/opt/anaconda3/lib/python3.9/site-packages/sklearn/utils/validation.py:1111: DataConversionWarning: A column-vector y was passed when a 1d array was expected. Please change the shape of y to (n_samples, ), for example using ravel().\n",
      "  y = column_or_1d(y, warn=True)\n",
      "/Users/vaibhavarora/opt/anaconda3/lib/python3.9/site-packages/sklearn/utils/validation.py:1111: DataConversionWarning: A column-vector y was passed when a 1d array was expected. Please change the shape of y to (n_samples, ), for example using ravel().\n",
      "  y = column_or_1d(y, warn=True)\n",
      "/Users/vaibhavarora/opt/anaconda3/lib/python3.9/site-packages/sklearn/utils/validation.py:1111: DataConversionWarning: A column-vector y was passed when a 1d array was expected. Please change the shape of y to (n_samples, ), for example using ravel().\n",
      "  y = column_or_1d(y, warn=True)\n",
      "/Users/vaibhavarora/opt/anaconda3/lib/python3.9/site-packages/sklearn/utils/validation.py:1111: DataConversionWarning: A column-vector y was passed when a 1d array was expected. Please change the shape of y to (n_samples, ), for example using ravel().\n",
      "  y = column_or_1d(y, warn=True)\n",
      "/Users/vaibhavarora/opt/anaconda3/lib/python3.9/site-packages/sklearn/utils/validation.py:1111: DataConversionWarning: A column-vector y was passed when a 1d array was expected. Please change the shape of y to (n_samples, ), for example using ravel().\n",
      "  y = column_or_1d(y, warn=True)\n",
      "/Users/vaibhavarora/opt/anaconda3/lib/python3.9/site-packages/sklearn/utils/validation.py:1111: DataConversionWarning: A column-vector y was passed when a 1d array was expected. Please change the shape of y to (n_samples, ), for example using ravel().\n",
      "  y = column_or_1d(y, warn=True)\n",
      "/Users/vaibhavarora/opt/anaconda3/lib/python3.9/site-packages/sklearn/utils/validation.py:1111: DataConversionWarning: A column-vector y was passed when a 1d array was expected. Please change the shape of y to (n_samples, ), for example using ravel().\n",
      "  y = column_or_1d(y, warn=True)\n",
      "/Users/vaibhavarora/opt/anaconda3/lib/python3.9/site-packages/sklearn/utils/validation.py:1111: DataConversionWarning: A column-vector y was passed when a 1d array was expected. Please change the shape of y to (n_samples, ), for example using ravel().\n",
      "  y = column_or_1d(y, warn=True)\n",
      "/Users/vaibhavarora/opt/anaconda3/lib/python3.9/site-packages/sklearn/utils/validation.py:1111: DataConversionWarning: A column-vector y was passed when a 1d array was expected. Please change the shape of y to (n_samples, ), for example using ravel().\n",
      "  y = column_or_1d(y, warn=True)\n"
     ]
    },
    {
     "name": "stdout",
     "output_type": "stream",
     "text": [
      "LoRe : 0.777686\n",
      "DeTr : 0.719263\n"
     ]
    },
    {
     "name": "stderr",
     "output_type": "stream",
     "text": [
      "/Users/vaibhavarora/opt/anaconda3/lib/python3.9/site-packages/sklearn/model_selection/_validation.py:686: DataConversionWarning: A column-vector y was passed when a 1d array was expected. Please change the shape of y to (n_samples,), for example using ravel().\n",
      "  estimator.fit(X_train, y_train, **fit_params)\n",
      "/Users/vaibhavarora/opt/anaconda3/lib/python3.9/site-packages/sklearn/model_selection/_validation.py:686: DataConversionWarning: A column-vector y was passed when a 1d array was expected. Please change the shape of y to (n_samples,), for example using ravel().\n",
      "  estimator.fit(X_train, y_train, **fit_params)\n",
      "/Users/vaibhavarora/opt/anaconda3/lib/python3.9/site-packages/sklearn/model_selection/_validation.py:686: DataConversionWarning: A column-vector y was passed when a 1d array was expected. Please change the shape of y to (n_samples,), for example using ravel().\n",
      "  estimator.fit(X_train, y_train, **fit_params)\n",
      "/Users/vaibhavarora/opt/anaconda3/lib/python3.9/site-packages/sklearn/model_selection/_validation.py:686: DataConversionWarning: A column-vector y was passed when a 1d array was expected. Please change the shape of y to (n_samples,), for example using ravel().\n",
      "  estimator.fit(X_train, y_train, **fit_params)\n",
      "/Users/vaibhavarora/opt/anaconda3/lib/python3.9/site-packages/sklearn/model_selection/_validation.py:686: DataConversionWarning: A column-vector y was passed when a 1d array was expected. Please change the shape of y to (n_samples,), for example using ravel().\n",
      "  estimator.fit(X_train, y_train, **fit_params)\n",
      "/Users/vaibhavarora/opt/anaconda3/lib/python3.9/site-packages/sklearn/model_selection/_validation.py:686: DataConversionWarning: A column-vector y was passed when a 1d array was expected. Please change the shape of y to (n_samples,), for example using ravel().\n",
      "  estimator.fit(X_train, y_train, **fit_params)\n",
      "/Users/vaibhavarora/opt/anaconda3/lib/python3.9/site-packages/sklearn/model_selection/_validation.py:686: DataConversionWarning: A column-vector y was passed when a 1d array was expected. Please change the shape of y to (n_samples,), for example using ravel().\n",
      "  estimator.fit(X_train, y_train, **fit_params)\n",
      "/Users/vaibhavarora/opt/anaconda3/lib/python3.9/site-packages/sklearn/model_selection/_validation.py:686: DataConversionWarning: A column-vector y was passed when a 1d array was expected. Please change the shape of y to (n_samples,), for example using ravel().\n",
      "  estimator.fit(X_train, y_train, **fit_params)\n",
      "/Users/vaibhavarora/opt/anaconda3/lib/python3.9/site-packages/sklearn/model_selection/_validation.py:686: DataConversionWarning: A column-vector y was passed when a 1d array was expected. Please change the shape of y to (n_samples,), for example using ravel().\n",
      "  estimator.fit(X_train, y_train, **fit_params)\n",
      "/Users/vaibhavarora/opt/anaconda3/lib/python3.9/site-packages/sklearn/model_selection/_validation.py:686: DataConversionWarning: A column-vector y was passed when a 1d array was expected. Please change the shape of y to (n_samples,), for example using ravel().\n",
      "  estimator.fit(X_train, y_train, **fit_params)\n"
     ]
    },
    {
     "name": "stdout",
     "output_type": "stream",
     "text": [
      "RaFo : 0.793754\n"
     ]
    },
    {
     "name": "stderr",
     "output_type": "stream",
     "text": [
      "/Users/vaibhavarora/opt/anaconda3/lib/python3.9/site-packages/sklearn/ensemble/_gb.py:570: DataConversionWarning: A column-vector y was passed when a 1d array was expected. Please change the shape of y to (n_samples, ), for example using ravel().\n",
      "  y = column_or_1d(y, warn=True)\n",
      "/Users/vaibhavarora/opt/anaconda3/lib/python3.9/site-packages/sklearn/ensemble/_gb.py:570: DataConversionWarning: A column-vector y was passed when a 1d array was expected. Please change the shape of y to (n_samples, ), for example using ravel().\n",
      "  y = column_or_1d(y, warn=True)\n",
      "/Users/vaibhavarora/opt/anaconda3/lib/python3.9/site-packages/sklearn/ensemble/_gb.py:570: DataConversionWarning: A column-vector y was passed when a 1d array was expected. Please change the shape of y to (n_samples, ), for example using ravel().\n",
      "  y = column_or_1d(y, warn=True)\n",
      "/Users/vaibhavarora/opt/anaconda3/lib/python3.9/site-packages/sklearn/ensemble/_gb.py:570: DataConversionWarning: A column-vector y was passed when a 1d array was expected. Please change the shape of y to (n_samples, ), for example using ravel().\n",
      "  y = column_or_1d(y, warn=True)\n",
      "/Users/vaibhavarora/opt/anaconda3/lib/python3.9/site-packages/sklearn/ensemble/_gb.py:570: DataConversionWarning: A column-vector y was passed when a 1d array was expected. Please change the shape of y to (n_samples, ), for example using ravel().\n",
      "  y = column_or_1d(y, warn=True)\n",
      "/Users/vaibhavarora/opt/anaconda3/lib/python3.9/site-packages/sklearn/ensemble/_gb.py:570: DataConversionWarning: A column-vector y was passed when a 1d array was expected. Please change the shape of y to (n_samples, ), for example using ravel().\n",
      "  y = column_or_1d(y, warn=True)\n",
      "/Users/vaibhavarora/opt/anaconda3/lib/python3.9/site-packages/sklearn/ensemble/_gb.py:570: DataConversionWarning: A column-vector y was passed when a 1d array was expected. Please change the shape of y to (n_samples, ), for example using ravel().\n",
      "  y = column_or_1d(y, warn=True)\n",
      "/Users/vaibhavarora/opt/anaconda3/lib/python3.9/site-packages/sklearn/ensemble/_gb.py:570: DataConversionWarning: A column-vector y was passed when a 1d array was expected. Please change the shape of y to (n_samples, ), for example using ravel().\n",
      "  y = column_or_1d(y, warn=True)\n",
      "/Users/vaibhavarora/opt/anaconda3/lib/python3.9/site-packages/sklearn/ensemble/_gb.py:570: DataConversionWarning: A column-vector y was passed when a 1d array was expected. Please change the shape of y to (n_samples, ), for example using ravel().\n",
      "  y = column_or_1d(y, warn=True)\n",
      "/Users/vaibhavarora/opt/anaconda3/lib/python3.9/site-packages/sklearn/ensemble/_gb.py:570: DataConversionWarning: A column-vector y was passed when a 1d array was expected. Please change the shape of y to (n_samples, ), for example using ravel().\n",
      "  y = column_or_1d(y, warn=True)\n"
     ]
    },
    {
     "name": "stdout",
     "output_type": "stream",
     "text": [
      "GrBo : 0.793753\n"
     ]
    }
   ],
   "source": [
    "from sklearn.model_selection import KFold, cross_val_score\n",
    "results = []\n",
    "name = []\n",
    "for names, modelb in models:\n",
    "    kfold = KFold(n_splits=10)\n",
    "    mod_res = cross_val_score(modelb, x_train_res,y_train_res, cv=kfold, scoring='accuracy')\n",
    "    results.append(mod_res)\n",
    "    name.append(names)\n",
    "    print(\"%s : %f\" %(names, mod_res.mean()))"
   ]
  },
  {
   "cell_type": "code",
   "execution_count": 231,
   "id": "be98393a",
   "metadata": {
    "scrolled": false
   },
   "outputs": [
    {
     "data": {
      "image/png": "[encoded data removed]",
      "text/plain": [
       "<Figure size 432x288 with 1 Axes>"
      ]
     },
     "metadata": {
      "needs_background": "light"
     },
     "output_type": "display_data"
    }
   ],
   "source": [
    "# boxplot algorithm comparison\n",
    "figu = plt.figure()\n",
    "figu.suptitle('Model Benchmarking')\n",
    "ax = figu.add_subplot(111)\n",
    "plt.boxplot(results)\n",
    "ax.set_xticklabels(name)\n",
    "plt.show()"
   ]
  },
  {
   "cell_type": "code",
   "execution_count": 232,
   "id": "62855c87",
   "metadata": {},
   "outputs": [
    {
     "name": "stderr",
     "output_type": "stream",
     "text": [
      "/Users/vaibhavarora/opt/anaconda3/lib/python3.9/site-packages/sklearn/utils/validation.py:1111: DataConversionWarning: A column-vector y was passed when a 1d array was expected. Please change the shape of y to (n_samples, ), for example using ravel().\n",
      "  y = column_or_1d(y, warn=True)\n"
     ]
    },
    {
     "name": "stdout",
     "output_type": "stream",
     "text": [
      "LoRe : 0.772577 (0.525237)\n",
      "DeTr : 0.719842 (0.610013)\n"
     ]
    },
    {
     "name": "stderr",
     "output_type": "stream",
     "text": [
      "/var/folders/xt/7tj5n_ln5nx9s8tyzzw7dw6r0000gn/T/ipykernel_65856/3930191081.py:9: DataConversionWarning: A column-vector y was passed when a 1d array was expected. Please change the shape of y to (n_samples,), for example using ravel().\n",
      "  model.fit(x_train_res,y_train_res)\n"
     ]
    },
    {
     "name": "stdout",
     "output_type": "stream",
     "text": [
      "RaFo : 0.796968 (0.528365)\n"
     ]
    },
    {
     "name": "stderr",
     "output_type": "stream",
     "text": [
      "/Users/vaibhavarora/opt/anaconda3/lib/python3.9/site-packages/sklearn/ensemble/_gb.py:570: DataConversionWarning: A column-vector y was passed when a 1d array was expected. Please change the shape of y to (n_samples, ), for example using ravel().\n",
      "  y = column_or_1d(y, warn=True)\n"
     ]
    },
    {
     "name": "stdout",
     "output_type": "stream",
     "text": [
      "GrBo : 0.791694 (0.528365)\n"
     ]
    }
   ],
   "source": [
    "from sklearn.metrics import accuracy_score, classification_report, mean_squared_error\n",
    "\n",
    "result = []\n",
    "accuracy = []\n",
    "rmse = []\n",
    "names = []\n",
    "for name, model in models:\n",
    "    xtrain,xtest,ytrain,ytest = train_test_split(x,y, test_size=0.2, random_state=3)\n",
    "    model.fit(x_train_res,y_train_res)\n",
    "    mod_pred = model.predict(x_test)\n",
    "    accu = accuracy_score(y_test,mod_pred)\n",
    "    error = np.sqrt(mean_squared_error(ytest,mod_pred))\n",
    "    accuracy.append(accu)\n",
    "    rmse.append(error)\n",
    "    names.append(name)\n",
    "    a = pd.DataFrame(accuracy)\n",
    "    b = pd.DataFrame(rmse)\n",
    "    print(\"%s : %f (%f)\" %(name, accu,error))\n"
   ]
  },
  {
   "cell_type": "code",
   "execution_count": 233,
   "id": "399b6964",
   "metadata": {},
   "outputs": [
    {
     "data": {
      "text/plain": [
       "<Figure size 504x288 with 0 Axes>"
      ]
     },
     "metadata": {},
     "output_type": "display_data"
    },
    {
     "data": {
      "image/png": "[encoded data removed]",
      "text/plain": [
       "<Figure size 432x288 with 1 Axes>"
      ]
     },
     "metadata": {
      "needs_background": "light"
     },
     "output_type": "display_data"
    }
   ],
   "source": [
    "#plot - accuracy\n",
    "plt.figure(figsize=[7,4])\n",
    "a.plot(kind='bar', alpha=0.7, color='g', rot=0)\n",
    "plt.xticks([0,1,2,3], names)\n",
    "plt.ylim(0.5,1)\n",
    "plt.xlabel('Models')\n",
    "plt.ylabel(\"Accuracy Score\")\n",
    "plt.legend(\"\")\n",
    "plt.show()"
   ]
  },
  {
   "cell_type": "code",
   "execution_count": 234,
   "id": "38d0fd5c",
   "metadata": {},
   "outputs": [
    {
     "data": {
      "text/plain": [
       "<Figure size 504x288 with 0 Axes>"
      ]
     },
     "metadata": {},
     "output_type": "display_data"
    },
    {
     "data": {
      "image/png": "[encoded data removed]",
      "text/plain": [
       "<Figure size 432x288 with 1 Axes>"
      ]
     },
     "metadata": {
      "needs_background": "light"
     },
     "output_type": "display_data"
    }
   ],
   "source": [
    "plt.figure(figsize=[7,4])\n",
    "b.plot(kind='bar', alpha=0.7, color='g', rot=0)\n",
    "plt.xticks([0,1,2,3], names)\n",
    "plt.ylim(0,0.7)\n",
    "plt.xlabel('Models')\n",
    "plt.ylabel(\"RMSE\")\n",
    "plt.legend(\"\")\n",
    "plt.show()"
   ]
  },
  {
   "cell_type": "code",
   "execution_count": 229,
   "id": "2581582a",
   "metadata": {},
   "outputs": [
    {
     "data": {
      "text/plain": [
       "<AxesSubplot:>"
      ]
     },
     "execution_count": 229,
     "metadata": {},
     "output_type": "execute_result"
    },
    {
     "data": {
      "image/png": "[encoded data removed]",
      "text/plain": [
       "<Figure size 720x360 with 1 Axes>"
      ]
     },
     "metadata": {
      "needs_background": "light"
     },
     "output_type": "display_data"
    }
   ],
   "source": [
    "feature_importance2=feature_importance2[feature_importance2.importance>0.080]\n",
    "feature_importance2.plot(kind='barh',figsize=(10,5))"
   ]
  }
 ],
 "metadata": {
  "kernelspec": {
   "display_name": "Python 3 (ipykernel)",
   "language": "python",
   "name": "python3"
  },
  "language_info": {
   "codemirror_mode": {
    "name": "ipython",
    "version": 3
   },
   "file_extension": ".py",
   "mimetype": "text/x-python",
   "name": "python",
   "nbconvert_exporter": "python",
   "pygments_lexer": "ipython3",
   "version": "3.9.7"
  }
 },
 "nbformat": 4,
 "nbformat_minor": 5
}
